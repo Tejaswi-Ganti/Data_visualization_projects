{
 "cells": [
  {
   "cell_type": "code",
   "execution_count": 2,
   "id": "986c6799",
   "metadata": {},
   "outputs": [],
   "source": [
    "import pandas as pd\n",
    "import numpy as np\n",
    "import matplotlib.pyplot as plt\n",
    "import seaborn as sns"
   ]
  },
  {
   "cell_type": "markdown",
   "id": "fea9a6a8",
   "metadata": {},
   "source": [
    "importing excel files using pandas\n"
   ]
  },
  {
   "cell_type": "code",
   "execution_count": 3,
   "id": "c8d97047",
   "metadata": {},
   "outputs": [],
   "source": [
    "leads_basic_details = pd.read_csv(\"leads_basic_details.csv\")\n",
    "leads_demo_watched_details = pd.read_csv(\"leads_demo_watched_details.csv\")\n",
    "leads_interaction_details = pd.read_csv(\"leads_interaction_details.csv\")\n",
    "leads_reasons_for_no_interest = pd.read_csv(\"leads_reasons_for_no_interest.csv\")\n",
    "sales_managers_assigned_leads_details = pd.read_csv(\"sales_managers_assigned_leads_details.csv\")"
   ]
  },
  {
   "cell_type": "code",
   "execution_count": 4,
   "id": "e17fcca9",
   "metadata": {},
   "outputs": [
    {
     "data": {
      "text/html": [
       "<div>\n",
       "<style scoped>\n",
       "    .dataframe tbody tr th:only-of-type {\n",
       "        vertical-align: middle;\n",
       "    }\n",
       "\n",
       "    .dataframe tbody tr th {\n",
       "        vertical-align: top;\n",
       "    }\n",
       "\n",
       "    .dataframe thead th {\n",
       "        text-align: right;\n",
       "    }\n",
       "</style>\n",
       "<table border=\"1\" class=\"dataframe\">\n",
       "  <thead>\n",
       "    <tr style=\"text-align: right;\">\n",
       "      <th></th>\n",
       "      <th>snr_sm_id</th>\n",
       "      <th>jnr_sm_id</th>\n",
       "      <th>assigned_date</th>\n",
       "      <th>cycle</th>\n",
       "      <th>lead_id</th>\n",
       "    </tr>\n",
       "  </thead>\n",
       "  <tbody>\n",
       "    <tr>\n",
       "      <th>0</th>\n",
       "      <td>SNR501MG</td>\n",
       "      <td>JNR1001MG</td>\n",
       "      <td>1/1/2022</td>\n",
       "      <td>1</td>\n",
       "      <td>USR1001</td>\n",
       "    </tr>\n",
       "    <tr>\n",
       "      <th>1</th>\n",
       "      <td>SNR501MG</td>\n",
       "      <td>JNR1001MG</td>\n",
       "      <td>1/1/2022</td>\n",
       "      <td>1</td>\n",
       "      <td>USR1002</td>\n",
       "    </tr>\n",
       "    <tr>\n",
       "      <th>2</th>\n",
       "      <td>SNR501MG</td>\n",
       "      <td>JNR1001MG</td>\n",
       "      <td>1/1/2022</td>\n",
       "      <td>1</td>\n",
       "      <td>USR1003</td>\n",
       "    </tr>\n",
       "    <tr>\n",
       "      <th>3</th>\n",
       "      <td>SNR501MG</td>\n",
       "      <td>JNR1001MG</td>\n",
       "      <td>1/1/2022</td>\n",
       "      <td>1</td>\n",
       "      <td>USR1004</td>\n",
       "    </tr>\n",
       "    <tr>\n",
       "      <th>4</th>\n",
       "      <td>SNR501MG</td>\n",
       "      <td>JNR1001MG</td>\n",
       "      <td>1/1/2022</td>\n",
       "      <td>1</td>\n",
       "      <td>USR1005</td>\n",
       "    </tr>\n",
       "    <tr>\n",
       "      <th>...</th>\n",
       "      <td>...</td>\n",
       "      <td>...</td>\n",
       "      <td>...</td>\n",
       "      <td>...</td>\n",
       "      <td>...</td>\n",
       "    </tr>\n",
       "    <tr>\n",
       "      <th>355</th>\n",
       "      <td>SNR501MG</td>\n",
       "      <td>JNR1001MG</td>\n",
       "      <td>2/19/2022</td>\n",
       "      <td>4</td>\n",
       "      <td>USR1356</td>\n",
       "    </tr>\n",
       "    <tr>\n",
       "      <th>356</th>\n",
       "      <td>SNR501MG</td>\n",
       "      <td>JNR1001MG</td>\n",
       "      <td>1/1/2022</td>\n",
       "      <td>1</td>\n",
       "      <td>USR1357</td>\n",
       "    </tr>\n",
       "    <tr>\n",
       "      <th>357</th>\n",
       "      <td>SNR501MG</td>\n",
       "      <td>JNR1001MG</td>\n",
       "      <td>1/8/2022</td>\n",
       "      <td>2</td>\n",
       "      <td>USR1358</td>\n",
       "    </tr>\n",
       "    <tr>\n",
       "      <th>358</th>\n",
       "      <td>SNR501MG</td>\n",
       "      <td>JNR1001MG</td>\n",
       "      <td>1/15/2022</td>\n",
       "      <td>3</td>\n",
       "      <td>USR1359</td>\n",
       "    </tr>\n",
       "    <tr>\n",
       "      <th>359</th>\n",
       "      <td>SNR501MG</td>\n",
       "      <td>JNR1001MG</td>\n",
       "      <td>2/19/2022</td>\n",
       "      <td>4</td>\n",
       "      <td>USR1360</td>\n",
       "    </tr>\n",
       "  </tbody>\n",
       "</table>\n",
       "<p>360 rows × 5 columns</p>\n",
       "</div>"
      ],
      "text/plain": [
       "    snr_sm_id  jnr_sm_id assigned_date  cycle  lead_id\n",
       "0    SNR501MG  JNR1001MG      1/1/2022      1  USR1001\n",
       "1    SNR501MG  JNR1001MG      1/1/2022      1  USR1002\n",
       "2    SNR501MG  JNR1001MG      1/1/2022      1  USR1003\n",
       "3    SNR501MG  JNR1001MG      1/1/2022      1  USR1004\n",
       "4    SNR501MG  JNR1001MG      1/1/2022      1  USR1005\n",
       "..        ...        ...           ...    ...      ...\n",
       "355  SNR501MG  JNR1001MG     2/19/2022      4  USR1356\n",
       "356  SNR501MG  JNR1001MG      1/1/2022      1  USR1357\n",
       "357  SNR501MG  JNR1001MG      1/8/2022      2  USR1358\n",
       "358  SNR501MG  JNR1001MG     1/15/2022      3  USR1359\n",
       "359  SNR501MG  JNR1001MG     2/19/2022      4  USR1360\n",
       "\n",
       "[360 rows x 5 columns]"
      ]
     },
     "execution_count": 4,
     "metadata": {},
     "output_type": "execute_result"
    }
   ],
   "source": [
    "sales_managers_assigned_leads_details"
   ]
  },
  {
   "cell_type": "markdown",
   "id": "a9f2f0ab",
   "metadata": {},
   "source": [
    "Extracting information of leads which were assigned to Jr Sales Manager"
   ]
  },
  {
   "cell_type": "code",
   "execution_count": 5,
   "id": "e1a4387c",
   "metadata": {},
   "outputs": [
    {
     "name": "stdout",
     "output_type": "stream",
     "text": [
      "<class 'pandas.core.frame.DataFrame'>\n",
      "RangeIndex: 360 entries, 0 to 359\n",
      "Data columns (total 7 columns):\n",
      " #   Column             Non-Null Count  Dtype \n",
      "---  ------             --------------  ----- \n",
      " 0   lead_id            360 non-null    object\n",
      " 1   age                360 non-null    int64 \n",
      " 2   gender             360 non-null    object\n",
      " 3   current_city       360 non-null    object\n",
      " 4   current_education  360 non-null    object\n",
      " 5   parent_occupation  360 non-null    object\n",
      " 6   lead_gen_source    360 non-null    object\n",
      "dtypes: int64(1), object(6)\n",
      "memory usage: 19.8+ KB\n"
     ]
    }
   ],
   "source": [
    "leads_basic_details.info()"
   ]
  },
  {
   "cell_type": "markdown",
   "id": "bb6245e5",
   "metadata": {},
   "source": [
    " As there are no null values in the file, tried to remove outliers if any \n",
    " \n",
    " \n",
    " \n",
    " \n",
    " In order to identity outliers, printing unique values from  \"age\" column and plotting box plot to identify them easily"
   ]
  },
  {
   "cell_type": "code",
   "execution_count": 6,
   "id": "1ed4da20",
   "metadata": {},
   "outputs": [
    {
     "data": {
      "text/plain": [
       "array([ 16,  20,  21,  22,  25,  18,  24, 211, 116], dtype=int64)"
      ]
     },
     "execution_count": 6,
     "metadata": {},
     "output_type": "execute_result"
    }
   ],
   "source": [
    "leads_basic_details.age.unique()"
   ]
  },
  {
   "cell_type": "code",
   "execution_count": 7,
   "id": "046cafc5",
   "metadata": {},
   "outputs": [
    {
     "data": {
      "text/plain": [
       "age    AxesSubplot(0.125,0.787927;0.352273x0.0920732)\n",
       "dtype: object"
      ]
     },
     "execution_count": 7,
     "metadata": {},
     "output_type": "execute_result"
    },
    {
     "data": {
      "image/png": "[encoded data removed]",
      "text/plain": [
       "<Figure size 1080x1440 with 14 Axes>"
      ]
     },
     "metadata": {
      "needs_background": "light"
     },
     "output_type": "display_data"
    }
   ],
   "source": [
    "leads_basic_details.plot(kind=\"box\",subplots=True,layout=(7,2),figsize=(15,20))"
   ]
  },
  {
   "cell_type": "markdown",
   "id": "95c4616e",
   "metadata": {},
   "source": [
    "While trying to remove outliers using age column, I came across  age: 211 and 116 which seems to be like outliers as age in that range is unusual .\n",
    "\n"
   ]
  },
  {
   "cell_type": "code",
   "execution_count": 8,
   "id": "aeaf0636",
   "metadata": {},
   "outputs": [
    {
     "data": {
      "text/html": [
       "<div>\n",
       "<style scoped>\n",
       "    .dataframe tbody tr th:only-of-type {\n",
       "        vertical-align: middle;\n",
       "    }\n",
       "\n",
       "    .dataframe tbody tr th {\n",
       "        vertical-align: top;\n",
       "    }\n",
       "\n",
       "    .dataframe thead th {\n",
       "        text-align: right;\n",
       "    }\n",
       "</style>\n",
       "<table border=\"1\" class=\"dataframe\">\n",
       "  <thead>\n",
       "    <tr style=\"text-align: right;\">\n",
       "      <th></th>\n",
       "      <th>lead_id</th>\n",
       "      <th>age</th>\n",
       "      <th>gender</th>\n",
       "      <th>current_city</th>\n",
       "      <th>current_education</th>\n",
       "      <th>parent_occupation</th>\n",
       "      <th>lead_gen_source</th>\n",
       "    </tr>\n",
       "  </thead>\n",
       "  <tbody>\n",
       "    <tr>\n",
       "      <th>17</th>\n",
       "      <td>USR1018</td>\n",
       "      <td>211</td>\n",
       "      <td>MALE</td>\n",
       "      <td>Hyderabad</td>\n",
       "      <td>Degree</td>\n",
       "      <td>IT Employee</td>\n",
       "      <td>social_media</td>\n",
       "    </tr>\n",
       "    <tr>\n",
       "      <th>300</th>\n",
       "      <td>USR1301</td>\n",
       "      <td>116</td>\n",
       "      <td>FEMALE</td>\n",
       "      <td>Hyderabad</td>\n",
       "      <td>Intermediate</td>\n",
       "      <td>Private Employee</td>\n",
       "      <td>social_media</td>\n",
       "    </tr>\n",
       "  </tbody>\n",
       "</table>\n",
       "</div>"
      ],
      "text/plain": [
       "     lead_id  age  gender current_city current_education parent_occupation  \\\n",
       "17   USR1018  211    MALE    Hyderabad            Degree       IT Employee   \n",
       "300  USR1301  116  FEMALE    Hyderabad      Intermediate  Private Employee   \n",
       "\n",
       "    lead_gen_source  \n",
       "17     social_media  \n",
       "300    social_media  "
      ]
     },
     "execution_count": 8,
     "metadata": {},
     "output_type": "execute_result"
    }
   ],
   "source": [
    "leads_basic_details.query('age>60')"
   ]
  },
  {
   "cell_type": "markdown",
   "id": "e22a70e5",
   "metadata": {},
   "source": [
    "Excluding age :211 and 116 from the main data"
   ]
  },
  {
   "cell_type": "code",
   "execution_count": 9,
   "id": "35246834",
   "metadata": {},
   "outputs": [
    {
     "data": {
      "text/html": [
       "<div>\n",
       "<style scoped>\n",
       "    .dataframe tbody tr th:only-of-type {\n",
       "        vertical-align: middle;\n",
       "    }\n",
       "\n",
       "    .dataframe tbody tr th {\n",
       "        vertical-align: top;\n",
       "    }\n",
       "\n",
       "    .dataframe thead th {\n",
       "        text-align: right;\n",
       "    }\n",
       "</style>\n",
       "<table border=\"1\" class=\"dataframe\">\n",
       "  <thead>\n",
       "    <tr style=\"text-align: right;\">\n",
       "      <th></th>\n",
       "      <th>lead_id</th>\n",
       "      <th>age</th>\n",
       "      <th>gender</th>\n",
       "      <th>current_city</th>\n",
       "      <th>current_education</th>\n",
       "      <th>parent_occupation</th>\n",
       "      <th>lead_gen_source</th>\n",
       "    </tr>\n",
       "  </thead>\n",
       "  <tbody>\n",
       "    <tr>\n",
       "      <th>0</th>\n",
       "      <td>USR1001</td>\n",
       "      <td>16</td>\n",
       "      <td>FEMALE</td>\n",
       "      <td>Hyderabad</td>\n",
       "      <td>Intermediate</td>\n",
       "      <td>Private Employee</td>\n",
       "      <td>social_media</td>\n",
       "    </tr>\n",
       "    <tr>\n",
       "      <th>1</th>\n",
       "      <td>USR1002</td>\n",
       "      <td>20</td>\n",
       "      <td>MALE</td>\n",
       "      <td>Bengaluru</td>\n",
       "      <td>B.Tech</td>\n",
       "      <td>Business</td>\n",
       "      <td>user_referrals</td>\n",
       "    </tr>\n",
       "    <tr>\n",
       "      <th>2</th>\n",
       "      <td>USR1003</td>\n",
       "      <td>20</td>\n",
       "      <td>FEMALE</td>\n",
       "      <td>Visakhapatnam</td>\n",
       "      <td>B.Tech</td>\n",
       "      <td>Lawyer</td>\n",
       "      <td>user_referrals</td>\n",
       "    </tr>\n",
       "    <tr>\n",
       "      <th>3</th>\n",
       "      <td>USR1004</td>\n",
       "      <td>16</td>\n",
       "      <td>MALE</td>\n",
       "      <td>Mumbai</td>\n",
       "      <td>Intermediate</td>\n",
       "      <td>IT Employee</td>\n",
       "      <td>user_referrals</td>\n",
       "    </tr>\n",
       "    <tr>\n",
       "      <th>4</th>\n",
       "      <td>USR1005</td>\n",
       "      <td>16</td>\n",
       "      <td>MALE</td>\n",
       "      <td>Chennai</td>\n",
       "      <td>Intermediate</td>\n",
       "      <td>Government Employee</td>\n",
       "      <td>user_referrals</td>\n",
       "    </tr>\n",
       "    <tr>\n",
       "      <th>...</th>\n",
       "      <td>...</td>\n",
       "      <td>...</td>\n",
       "      <td>...</td>\n",
       "      <td>...</td>\n",
       "      <td>...</td>\n",
       "      <td>...</td>\n",
       "      <td>...</td>\n",
       "    </tr>\n",
       "    <tr>\n",
       "      <th>355</th>\n",
       "      <td>USR1356</td>\n",
       "      <td>21</td>\n",
       "      <td>MALE</td>\n",
       "      <td>Mumbai</td>\n",
       "      <td>Degree</td>\n",
       "      <td>Government Employee</td>\n",
       "      <td>user_referrals</td>\n",
       "    </tr>\n",
       "    <tr>\n",
       "      <th>356</th>\n",
       "      <td>USR1357</td>\n",
       "      <td>22</td>\n",
       "      <td>MALE</td>\n",
       "      <td>Chennai</td>\n",
       "      <td>Looking for Job</td>\n",
       "      <td>Government Employee</td>\n",
       "      <td>website</td>\n",
       "    </tr>\n",
       "    <tr>\n",
       "      <th>357</th>\n",
       "      <td>USR1358</td>\n",
       "      <td>25</td>\n",
       "      <td>MALE</td>\n",
       "      <td>Chennai</td>\n",
       "      <td>B.Tech</td>\n",
       "      <td>Government Employee</td>\n",
       "      <td>SEO</td>\n",
       "    </tr>\n",
       "    <tr>\n",
       "      <th>358</th>\n",
       "      <td>USR1359</td>\n",
       "      <td>18</td>\n",
       "      <td>FEMALE</td>\n",
       "      <td>Mumbai</td>\n",
       "      <td>B.Tech</td>\n",
       "      <td>Government Employee</td>\n",
       "      <td>email_marketing</td>\n",
       "    </tr>\n",
       "    <tr>\n",
       "      <th>359</th>\n",
       "      <td>USR1360</td>\n",
       "      <td>16</td>\n",
       "      <td>MALE</td>\n",
       "      <td>Mumbai</td>\n",
       "      <td>Intermediate</td>\n",
       "      <td>Government Employee</td>\n",
       "      <td>social_media</td>\n",
       "    </tr>\n",
       "  </tbody>\n",
       "</table>\n",
       "<p>358 rows × 7 columns</p>\n",
       "</div>"
      ],
      "text/plain": [
       "     lead_id  age  gender   current_city current_education  \\\n",
       "0    USR1001   16  FEMALE      Hyderabad      Intermediate   \n",
       "1    USR1002   20    MALE      Bengaluru            B.Tech   \n",
       "2    USR1003   20  FEMALE  Visakhapatnam            B.Tech   \n",
       "3    USR1004   16    MALE         Mumbai      Intermediate   \n",
       "4    USR1005   16    MALE        Chennai      Intermediate   \n",
       "..       ...  ...     ...            ...               ...   \n",
       "355  USR1356   21    MALE         Mumbai            Degree   \n",
       "356  USR1357   22    MALE        Chennai   Looking for Job   \n",
       "357  USR1358   25    MALE        Chennai            B.Tech   \n",
       "358  USR1359   18  FEMALE         Mumbai            B.Tech   \n",
       "359  USR1360   16    MALE         Mumbai      Intermediate   \n",
       "\n",
       "       parent_occupation  lead_gen_source  \n",
       "0       Private Employee     social_media  \n",
       "1               Business   user_referrals  \n",
       "2                 Lawyer   user_referrals  \n",
       "3            IT Employee   user_referrals  \n",
       "4    Government Employee   user_referrals  \n",
       "..                   ...              ...  \n",
       "355  Government Employee   user_referrals  \n",
       "356  Government Employee          website  \n",
       "357  Government Employee              SEO  \n",
       "358  Government Employee  email_marketing  \n",
       "359  Government Employee     social_media  \n",
       "\n",
       "[358 rows x 7 columns]"
      ]
     },
     "execution_count": 9,
     "metadata": {},
     "output_type": "execute_result"
    }
   ],
   "source": [
    "leads_basic_details_ro=leads_basic_details.query('age<60')\n",
    "leads_basic_details_ro"
   ]
  },
  {
   "cell_type": "code",
   "execution_count": 10,
   "id": "3790f2da",
   "metadata": {},
   "outputs": [
    {
     "data": {
      "text/plain": [
       "age    AxesSubplot(0.125,0.787927;0.352273x0.0920732)\n",
       "dtype: object"
      ]
     },
     "execution_count": 10,
     "metadata": {},
     "output_type": "execute_result"
    },
    {
     "data": {
      "image/png": "[encoded data removed]",
      "text/plain": [
       "<Figure size 1080x1440 with 14 Axes>"
      ]
     },
     "metadata": {
      "needs_background": "light"
     },
     "output_type": "display_data"
    }
   ],
   "source": [
    "leads_basic_details_ro.plot(kind=\"box\",subplots=True,layout=(7,2),figsize=(15,20))"
   ]
  },
  {
   "cell_type": "code",
   "execution_count": 11,
   "id": "3a5ea28d",
   "metadata": {},
   "outputs": [
    {
     "data": {
      "text/plain": [
       "B.Tech                    139\n",
       "Looking for Job           117\n",
       "Degree                     42\n",
       "Intermediate               40\n",
       "Intermediate Completed     12\n",
       "10th Completed              8\n",
       "Name: current_education, dtype: int64"
      ]
     },
     "execution_count": 11,
     "metadata": {},
     "output_type": "execute_result"
    }
   ],
   "source": [
    "leads_basic_details_ro.current_education.value_counts()"
   ]
  },
  {
   "cell_type": "markdown",
   "id": "9e0c07da",
   "metadata": {},
   "source": [
    "As 'Intermediate' and 'Intermediate Completed' both are same, combining these two into one cateogary 'Intermediate'"
   ]
  },
  {
   "cell_type": "code",
   "execution_count": 12,
   "id": "05725d90",
   "metadata": {},
   "outputs": [
    {
     "name": "stderr",
     "output_type": "stream",
     "text": [
      "C:\\Python 3.10\\lib\\site-packages\\pandas\\core\\generic.py:6619: SettingWithCopyWarning: \n",
      "A value is trying to be set on a copy of a slice from a DataFrame\n",
      "\n",
      "See the caveats in the documentation: https://pandas.pydata.org/pandas-docs/stable/user_guide/indexing.html#returning-a-view-versus-a-copy\n",
      "  return self._update_inplace(result)\n"
     ]
    }
   ],
   "source": [
    "leads_basic_details_ro.current_education.replace({'Intermediate Completed':'Intermediate'}, inplace=True)"
   ]
  },
  {
   "cell_type": "code",
   "execution_count": 13,
   "id": "605d52b5",
   "metadata": {},
   "outputs": [
    {
     "data": {
      "text/plain": [
       "array(['Intermediate', 'B.Tech', 'Degree', 'Looking for Job',\n",
       "       '10th Completed'], dtype=object)"
      ]
     },
     "execution_count": 13,
     "metadata": {},
     "output_type": "execute_result"
    }
   ],
   "source": [
    "leads_basic_details_ro.current_education.unique()"
   ]
  },
  {
   "cell_type": "markdown",
   "id": "a5eba857",
   "metadata": {},
   "source": [
    "After removing outliers using age column, now analysing the source from which leads were generated"
   ]
  },
  {
   "cell_type": "code",
   "execution_count": 14,
   "id": "a91d9bb5",
   "metadata": {},
   "outputs": [
    {
     "data": {
      "text/plain": [
       "array(['social_media', 'user_referrals', 'website', 'SEO',\n",
       "       'email_marketing'], dtype=object)"
      ]
     },
     "execution_count": 14,
     "metadata": {},
     "output_type": "execute_result"
    }
   ],
   "source": [
    "leads_basic_details_ro.lead_gen_source.unique()"
   ]
  },
  {
   "cell_type": "markdown",
   "id": "ffac03c1",
   "metadata": {},
   "source": [
    "Generating counts of each source used by leads and plotting this info in the form of graphical format"
   ]
  },
  {
   "cell_type": "markdown",
   "id": "f23a67b1",
   "metadata": {},
   "source": [
    "Source Details"
   ]
  },
  {
   "cell_type": "code",
   "execution_count": 15,
   "id": "225b9014",
   "metadata": {},
   "outputs": [
    {
     "data": {
      "text/plain": [
       "social_media       85\n",
       "SEO                75\n",
       "email_marketing    73\n",
       "user_referrals     66\n",
       "website            59\n",
       "Name: lead_gen_source, dtype: int64"
      ]
     },
     "execution_count": 15,
     "metadata": {},
     "output_type": "execute_result"
    }
   ],
   "source": [
    "leads_basic_details_ro.lead_gen_source.value_counts()"
   ]
  },
  {
   "cell_type": "markdown",
   "id": "04ea9555",
   "metadata": {},
   "source": [
    "Plotting source percentage using pie chart and bars"
   ]
  },
  {
   "cell_type": "code",
   "execution_count": 16,
   "id": "ecf327da",
   "metadata": {},
   "outputs": [
    {
     "data": {
      "text/plain": [
       "Text(0.5, 1.0, 'Lead Source')"
      ]
     },
     "execution_count": 16,
     "metadata": {},
     "output_type": "execute_result"
    },
    {
     "data": {
      "image/png": "[encoded data removed]",
      "text/plain": [
       "<Figure size 432x288 with 1 Axes>"
      ]
     },
     "metadata": {},
     "output_type": "display_data"
    }
   ],
   "source": [
    "pie = leads_basic_details_ro.groupby('lead_gen_source').size().plot(kind='pie', autopct='%.2f',  y='lead_id', ylabel='')\n",
    "pie.set_title(\"Lead Source\")"
   ]
  },
  {
   "cell_type": "code",
   "execution_count": 120,
   "id": "2aeeec41",
   "metadata": {},
   "outputs": [
    {
     "data": {
      "text/plain": [
       "Text(0.5, 1.0, 'Count of leads in different cities')"
      ]
     },
     "execution_count": 120,
     "metadata": {},
     "output_type": "execute_result"
    },
    {
     "data": {
      "image/png": "[encoded data removed]",
      "text/plain": [
       "<Figure size 720x504 with 1 Axes>"
      ]
     },
     "metadata": {
      "needs_background": "light"
     },
     "output_type": "display_data"
    }
   ],
   "source": [
    "countplt, bar = plt.subplots(figsize = (10,7))\n",
    "bar =sns.countplot(x = 'lead_gen_source', data=leads_basic_details_ro)\n",
    "plt.title(\"Count of leads in different cities\")"
   ]
  },
  {
   "cell_type": "markdown",
   "id": "27886392",
   "metadata": {},
   "source": [
    "Above plots and informations tells that nearly 1/4th(23.74%) of leads came to know about the EdTech firm through Social media, where 'SEO' and 'email_marketing' are next important source around 20% each\n",
    "\n",
    "All the sources are contributing approximately equally "
   ]
  },
  {
   "cell_type": "markdown",
   "id": "450172d6",
   "metadata": {},
   "source": [
    "City details\n"
   ]
  },
  {
   "cell_type": "code",
   "execution_count": 18,
   "id": "5bada318",
   "metadata": {},
   "outputs": [
    {
     "data": {
      "text/plain": [
       "Visakhapatnam    76\n",
       "Hyderabad        75\n",
       "Kochi            67\n",
       "Bengaluru        51\n",
       "Mumbai           48\n",
       "Chennai          41\n",
       "Name: current_city, dtype: int64"
      ]
     },
     "execution_count": 18,
     "metadata": {},
     "output_type": "execute_result"
    }
   ],
   "source": [
    "leads_basic_details_ro.current_city.value_counts()"
   ]
  },
  {
   "cell_type": "code",
   "execution_count": 19,
   "id": "120f096a",
   "metadata": {},
   "outputs": [
    {
     "data": {
      "text/plain": [
       "Text(0.5, 1.0, 'Percentage distribution of Leads from Different cities ')"
      ]
     },
     "execution_count": 19,
     "metadata": {},
     "output_type": "execute_result"
    },
    {
     "data": {
      "image/png": "[encoded data removed]",
      "text/plain": [
       "<Figure size 432x288 with 1 Axes>"
      ]
     },
     "metadata": {},
     "output_type": "display_data"
    }
   ],
   "source": [
    "pie = leads_basic_details_ro.groupby('current_city').size().plot(kind='pie', autopct='%.2f',  y='lead_id', ylabel='')\n",
    "pie.set_title(\"Percentage distribution of Leads from Different cities \")"
   ]
  },
  {
   "cell_type": "markdown",
   "id": "9d75eee4",
   "metadata": {},
   "source": [
    "We can see that majority of leads are from 'Hyderabad' and 'Visakhapatnam'\n",
    "\n",
    "Now we will analyse what language these leads are prefering from respective places"
   ]
  },
  {
   "cell_type": "code",
   "execution_count": 20,
   "id": "70cccc42",
   "metadata": {},
   "outputs": [
    {
     "name": "stdout",
     "output_type": "stream",
     "text": [
      "<class 'pandas.core.frame.DataFrame'>\n",
      "RangeIndex: 194 entries, 0 to 193\n",
      "Data columns (total 4 columns):\n",
      " #   Column              Non-Null Count  Dtype \n",
      "---  ------              --------------  ----- \n",
      " 0   lead_id             194 non-null    object\n",
      " 1   demo_watched_date   194 non-null    object\n",
      " 2   language            194 non-null    object\n",
      " 3   watched_percentage  194 non-null    int64 \n",
      "dtypes: int64(1), object(3)\n",
      "memory usage: 6.2+ KB\n"
     ]
    }
   ],
   "source": [
    "leads_demo_watched_details.info()"
   ]
  },
  {
   "cell_type": "code",
   "execution_count": 21,
   "id": "c953e548",
   "metadata": {},
   "outputs": [
    {
     "data": {
      "text/plain": [
       "watched_percentage    AxesSubplot(0.125,0.787927;0.352273x0.0920732)\n",
       "dtype: object"
      ]
     },
     "execution_count": 21,
     "metadata": {},
     "output_type": "execute_result"
    },
    {
     "data": {
      "image/png": "[encoded data removed]",
      "text/plain": [
       "<Figure size 1080x1440 with 14 Axes>"
      ]
     },
     "metadata": {
      "needs_background": "light"
     },
     "output_type": "display_data"
    }
   ],
   "source": [
    "leads_demo_watched_details.plot(kind=\"box\",subplots=True,layout=(7,2),figsize=(15,20))"
   ]
  },
  {
   "cell_type": "markdown",
   "id": "06198d6c",
   "metadata": {},
   "source": [
    "We can observe outliers here from the above box plot, So we will remove rows which are having 'watched_percentage' more than '100%' them in the next step"
   ]
  },
  {
   "cell_type": "code",
   "execution_count": 22,
   "id": "a780cf09",
   "metadata": {},
   "outputs": [
    {
     "data": {
      "text/html": [
       "<div>\n",
       "<style scoped>\n",
       "    .dataframe tbody tr th:only-of-type {\n",
       "        vertical-align: middle;\n",
       "    }\n",
       "\n",
       "    .dataframe tbody tr th {\n",
       "        vertical-align: top;\n",
       "    }\n",
       "\n",
       "    .dataframe thead th {\n",
       "        text-align: right;\n",
       "    }\n",
       "</style>\n",
       "<table border=\"1\" class=\"dataframe\">\n",
       "  <thead>\n",
       "    <tr style=\"text-align: right;\">\n",
       "      <th></th>\n",
       "      <th>lead_id</th>\n",
       "      <th>demo_watched_date</th>\n",
       "      <th>language</th>\n",
       "      <th>watched_percentage</th>\n",
       "    </tr>\n",
       "  </thead>\n",
       "  <tbody>\n",
       "    <tr>\n",
       "      <th>0</th>\n",
       "      <td>USR1002</td>\n",
       "      <td>1/4/2022</td>\n",
       "      <td>Telugu</td>\n",
       "      <td>42</td>\n",
       "    </tr>\n",
       "    <tr>\n",
       "      <th>1</th>\n",
       "      <td>USR1003</td>\n",
       "      <td>1/7/2022</td>\n",
       "      <td>Telugu</td>\n",
       "      <td>81</td>\n",
       "    </tr>\n",
       "    <tr>\n",
       "      <th>2</th>\n",
       "      <td>USR1004</td>\n",
       "      <td>1/2/2022</td>\n",
       "      <td>Telugu</td>\n",
       "      <td>35</td>\n",
       "    </tr>\n",
       "  </tbody>\n",
       "</table>\n",
       "</div>"
      ],
      "text/plain": [
       "   lead_id demo_watched_date language  watched_percentage\n",
       "0  USR1002          1/4/2022   Telugu                  42\n",
       "1  USR1003          1/7/2022   Telugu                  81\n",
       "2  USR1004          1/2/2022   Telugu                  35"
      ]
     },
     "execution_count": 22,
     "metadata": {},
     "output_type": "execute_result"
    }
   ],
   "source": [
    "leads_demo_watched_details_n=leads_demo_watched_details.query('watched_percentage<=100')\n",
    "leads_demo_watched_details_n.head(3)"
   ]
  },
  {
   "cell_type": "code",
   "execution_count": 23,
   "id": "99316c78",
   "metadata": {},
   "outputs": [
    {
     "data": {
      "text/html": [
       "<div>\n",
       "<style scoped>\n",
       "    .dataframe tbody tr th:only-of-type {\n",
       "        vertical-align: middle;\n",
       "    }\n",
       "\n",
       "    .dataframe tbody tr th {\n",
       "        vertical-align: top;\n",
       "    }\n",
       "\n",
       "    .dataframe thead th {\n",
       "        text-align: right;\n",
       "    }\n",
       "</style>\n",
       "<table border=\"1\" class=\"dataframe\">\n",
       "  <thead>\n",
       "    <tr style=\"text-align: right;\">\n",
       "      <th></th>\n",
       "      <th>lead_id</th>\n",
       "      <th>demo_watched_date</th>\n",
       "      <th>language</th>\n",
       "      <th>watched_percentage</th>\n",
       "      <th>age</th>\n",
       "      <th>gender</th>\n",
       "      <th>current_city</th>\n",
       "      <th>current_education</th>\n",
       "      <th>parent_occupation</th>\n",
       "      <th>lead_gen_source</th>\n",
       "    </tr>\n",
       "  </thead>\n",
       "  <tbody>\n",
       "    <tr>\n",
       "      <th>0</th>\n",
       "      <td>USR1002</td>\n",
       "      <td>1/4/2022</td>\n",
       "      <td>Telugu</td>\n",
       "      <td>42</td>\n",
       "      <td>20</td>\n",
       "      <td>MALE</td>\n",
       "      <td>Bengaluru</td>\n",
       "      <td>B.Tech</td>\n",
       "      <td>Business</td>\n",
       "      <td>user_referrals</td>\n",
       "    </tr>\n",
       "    <tr>\n",
       "      <th>1</th>\n",
       "      <td>USR1003</td>\n",
       "      <td>1/7/2022</td>\n",
       "      <td>Telugu</td>\n",
       "      <td>81</td>\n",
       "      <td>20</td>\n",
       "      <td>FEMALE</td>\n",
       "      <td>Visakhapatnam</td>\n",
       "      <td>B.Tech</td>\n",
       "      <td>Lawyer</td>\n",
       "      <td>user_referrals</td>\n",
       "    </tr>\n",
       "    <tr>\n",
       "      <th>2</th>\n",
       "      <td>USR1004</td>\n",
       "      <td>1/2/2022</td>\n",
       "      <td>Telugu</td>\n",
       "      <td>35</td>\n",
       "      <td>16</td>\n",
       "      <td>MALE</td>\n",
       "      <td>Mumbai</td>\n",
       "      <td>Intermediate</td>\n",
       "      <td>IT Employee</td>\n",
       "      <td>user_referrals</td>\n",
       "    </tr>\n",
       "    <tr>\n",
       "      <th>3</th>\n",
       "      <td>USR1005</td>\n",
       "      <td>1/3/2022</td>\n",
       "      <td>Hindi</td>\n",
       "      <td>38</td>\n",
       "      <td>16</td>\n",
       "      <td>MALE</td>\n",
       "      <td>Chennai</td>\n",
       "      <td>Intermediate</td>\n",
       "      <td>Government Employee</td>\n",
       "      <td>user_referrals</td>\n",
       "    </tr>\n",
       "    <tr>\n",
       "      <th>4</th>\n",
       "      <td>USR1006</td>\n",
       "      <td>1/12/2022</td>\n",
       "      <td>Hindi</td>\n",
       "      <td>54</td>\n",
       "      <td>16</td>\n",
       "      <td>MALE</td>\n",
       "      <td>Kochi</td>\n",
       "      <td>Intermediate</td>\n",
       "      <td>Doctor</td>\n",
       "      <td>user_referrals</td>\n",
       "    </tr>\n",
       "  </tbody>\n",
       "</table>\n",
       "</div>"
      ],
      "text/plain": [
       "   lead_id demo_watched_date language  watched_percentage  age  gender  \\\n",
       "0  USR1002          1/4/2022   Telugu                  42   20    MALE   \n",
       "1  USR1003          1/7/2022   Telugu                  81   20  FEMALE   \n",
       "2  USR1004          1/2/2022   Telugu                  35   16    MALE   \n",
       "3  USR1005          1/3/2022    Hindi                  38   16    MALE   \n",
       "4  USR1006         1/12/2022    Hindi                  54   16    MALE   \n",
       "\n",
       "    current_city current_education    parent_occupation lead_gen_source  \n",
       "0      Bengaluru            B.Tech             Business  user_referrals  \n",
       "1  Visakhapatnam            B.Tech               Lawyer  user_referrals  \n",
       "2         Mumbai      Intermediate          IT Employee  user_referrals  \n",
       "3        Chennai      Intermediate  Government Employee  user_referrals  \n",
       "4          Kochi      Intermediate               Doctor  user_referrals  "
      ]
     },
     "execution_count": 23,
     "metadata": {},
     "output_type": "execute_result"
    }
   ],
   "source": [
    "df_leads_city_lang_details = pd.merge(leads_demo_watched_details_n, leads_basic_details_ro, how='inner', on = 'lead_id')\n",
    "df_leads_city_lang_details.head()"
   ]
  },
  {
   "cell_type": "markdown",
   "id": "341653f5",
   "metadata": {},
   "source": [
    "Language details\n"
   ]
  },
  {
   "cell_type": "code",
   "execution_count": 24,
   "id": "98c9349e",
   "metadata": {},
   "outputs": [
    {
     "data": {
      "text/plain": [
       "English    111\n",
       "Telugu      61\n",
       "Hindi       19\n",
       "Name: language, dtype: int64"
      ]
     },
     "execution_count": 24,
     "metadata": {},
     "output_type": "execute_result"
    }
   ],
   "source": [
    "df_leads_city_lang_details.language.value_counts()"
   ]
  },
  {
   "cell_type": "code",
   "execution_count": 25,
   "id": "71ced105",
   "metadata": {},
   "outputs": [
    {
     "data": {
      "text/plain": [
       "Text(0.5, 1.0, 'Languages count')"
      ]
     },
     "execution_count": 25,
     "metadata": {},
     "output_type": "execute_result"
    },
    {
     "data": {
      "image/png": "[encoded data removed]",
      "text/plain": [
       "<Figure size 720x504 with 1 Axes>"
      ]
     },
     "metadata": {
      "needs_background": "light"
     },
     "output_type": "display_data"
    }
   ],
   "source": [
    "countplt, bar = plt.subplots(figsize = (10,7))\n",
    "bar =sns.countplot(x = 'language', data=df_leads_city_lang_details)\n",
    "plt.title(\"Languages count\")"
   ]
  },
  {
   "cell_type": "markdown",
   "id": "e71bbde3",
   "metadata": {},
   "source": [
    "We can observer that 'Hindi' is the least preferred languages among others and 'English' is highest preferred one"
   ]
  },
  {
   "cell_type": "markdown",
   "id": "2512a04e",
   "metadata": {},
   "source": [
    "Plotting Count of leads preferring languages from each city"
   ]
  },
  {
   "cell_type": "code",
   "execution_count": 26,
   "id": "4d0d7b34",
   "metadata": {},
   "outputs": [
    {
     "data": {
      "text/plain": [
       "Text(0.5, 1.0, 'Percentage of Languages preferred by leads')"
      ]
     },
     "execution_count": 26,
     "metadata": {},
     "output_type": "execute_result"
    },
    {
     "data": {
      "image/png": "[encoded data removed]",
      "text/plain": [
       "<Figure size 432x288 with 1 Axes>"
      ]
     },
     "metadata": {},
     "output_type": "display_data"
    }
   ],
   "source": [
    "pie2 = df_leads_city_lang_details.groupby('language').size().plot(kind='pie', autopct='%.2f',  y='lead_id', ylabel='')\n",
    "pie2.set_title(\"Percentage of Languages preferred by leads\")"
   ]
  },
  {
   "cell_type": "code",
   "execution_count": 27,
   "id": "87a46282",
   "metadata": {},
   "outputs": [
    {
     "data": {
      "text/plain": [
       "language  current_city \n",
       "English   Bengaluru        22\n",
       "          Chennai          17\n",
       "          Hyderabad        20\n",
       "          Kochi            19\n",
       "          Mumbai           11\n",
       "          Visakhapatnam    22\n",
       "Hindi     Bengaluru         3\n",
       "          Chennai           6\n",
       "          Hyderabad         3\n",
       "          Kochi             4\n",
       "          Mumbai            1\n",
       "          Visakhapatnam     2\n",
       "Telugu    Bengaluru         7\n",
       "          Chennai           7\n",
       "          Hyderabad        17\n",
       "          Kochi             8\n",
       "          Mumbai            7\n",
       "          Visakhapatnam    15\n",
       "dtype: int64"
      ]
     },
     "execution_count": 27,
     "metadata": {},
     "output_type": "execute_result"
    }
   ],
   "source": [
    "df_leads_city_lang_details.groupby(['language', 'current_city']).size()"
   ]
  },
  {
   "cell_type": "markdown",
   "id": "ab6a412f",
   "metadata": {},
   "source": [
    "Leads from mumbai have least count comparivetly \n",
    "\n",
    "\n",
    "Majority of the Leads are from 'Hyderabad' and 'Visakhapatnam', maximum of them are  preferring 'Telugu'  as that is their native language "
   ]
  },
  {
   "cell_type": "markdown",
   "id": "0c5ffa06",
   "metadata": {},
   "source": [
    "Analyzing data from other tables"
   ]
  },
  {
   "cell_type": "code",
   "execution_count": 28,
   "id": "b9d329e8",
   "metadata": {},
   "outputs": [
    {
     "data": {
      "text/html": [
       "<div>\n",
       "<style scoped>\n",
       "    .dataframe tbody tr th:only-of-type {\n",
       "        vertical-align: middle;\n",
       "    }\n",
       "\n",
       "    .dataframe tbody tr th {\n",
       "        vertical-align: top;\n",
       "    }\n",
       "\n",
       "    .dataframe thead th {\n",
       "        text-align: right;\n",
       "    }\n",
       "</style>\n",
       "<table border=\"1\" class=\"dataframe\">\n",
       "  <thead>\n",
       "    <tr style=\"text-align: right;\">\n",
       "      <th></th>\n",
       "      <th>snr_sm_id</th>\n",
       "      <th>jnr_sm_id</th>\n",
       "      <th>assigned_date</th>\n",
       "      <th>cycle</th>\n",
       "      <th>lead_id</th>\n",
       "    </tr>\n",
       "  </thead>\n",
       "  <tbody>\n",
       "    <tr>\n",
       "      <th>0</th>\n",
       "      <td>SNR501MG</td>\n",
       "      <td>JNR1001MG</td>\n",
       "      <td>1/1/2022</td>\n",
       "      <td>1</td>\n",
       "      <td>USR1001</td>\n",
       "    </tr>\n",
       "    <tr>\n",
       "      <th>1</th>\n",
       "      <td>SNR501MG</td>\n",
       "      <td>JNR1001MG</td>\n",
       "      <td>1/1/2022</td>\n",
       "      <td>1</td>\n",
       "      <td>USR1002</td>\n",
       "    </tr>\n",
       "    <tr>\n",
       "      <th>2</th>\n",
       "      <td>SNR501MG</td>\n",
       "      <td>JNR1001MG</td>\n",
       "      <td>1/1/2022</td>\n",
       "      <td>1</td>\n",
       "      <td>USR1003</td>\n",
       "    </tr>\n",
       "    <tr>\n",
       "      <th>3</th>\n",
       "      <td>SNR501MG</td>\n",
       "      <td>JNR1001MG</td>\n",
       "      <td>1/1/2022</td>\n",
       "      <td>1</td>\n",
       "      <td>USR1004</td>\n",
       "    </tr>\n",
       "    <tr>\n",
       "      <th>4</th>\n",
       "      <td>SNR501MG</td>\n",
       "      <td>JNR1001MG</td>\n",
       "      <td>1/1/2022</td>\n",
       "      <td>1</td>\n",
       "      <td>USR1005</td>\n",
       "    </tr>\n",
       "  </tbody>\n",
       "</table>\n",
       "</div>"
      ],
      "text/plain": [
       "  snr_sm_id  jnr_sm_id assigned_date  cycle  lead_id\n",
       "0  SNR501MG  JNR1001MG      1/1/2022      1  USR1001\n",
       "1  SNR501MG  JNR1001MG      1/1/2022      1  USR1002\n",
       "2  SNR501MG  JNR1001MG      1/1/2022      1  USR1003\n",
       "3  SNR501MG  JNR1001MG      1/1/2022      1  USR1004\n",
       "4  SNR501MG  JNR1001MG      1/1/2022      1  USR1005"
      ]
     },
     "execution_count": 28,
     "metadata": {},
     "output_type": "execute_result"
    }
   ],
   "source": [
    "sales_managers_assigned_leads_details.head()\n"
   ]
  },
  {
   "cell_type": "code",
   "execution_count": 29,
   "id": "6df9fa4d",
   "metadata": {},
   "outputs": [
    {
     "name": "stdout",
     "output_type": "stream",
     "text": [
      "<class 'pandas.core.frame.DataFrame'>\n",
      "RangeIndex: 2192 entries, 0 to 2191\n",
      "Data columns (total 6 columns):\n",
      " #   Column          Non-Null Count  Dtype \n",
      "---  ------          --------------  ----- \n",
      " 0   jnr_sm_id       2192 non-null   object\n",
      " 1   lead_id         2192 non-null   object\n",
      " 2   lead_stage      2192 non-null   object\n",
      " 3   call_done_date  2192 non-null   object\n",
      " 4   call_status     2192 non-null   object\n",
      " 5   call_reason     2192 non-null   object\n",
      "dtypes: object(6)\n",
      "memory usage: 102.9+ KB\n"
     ]
    }
   ],
   "source": [
    "leads_interaction_details.info()"
   ]
  },
  {
   "cell_type": "code",
   "execution_count": 30,
   "id": "3b3c6e7d",
   "metadata": {},
   "outputs": [
    {
     "data": {
      "text/html": [
       "<div>\n",
       "<style scoped>\n",
       "    .dataframe tbody tr th:only-of-type {\n",
       "        vertical-align: middle;\n",
       "    }\n",
       "\n",
       "    .dataframe tbody tr th {\n",
       "        vertical-align: top;\n",
       "    }\n",
       "\n",
       "    .dataframe thead th {\n",
       "        text-align: right;\n",
       "    }\n",
       "</style>\n",
       "<table border=\"1\" class=\"dataframe\">\n",
       "  <thead>\n",
       "    <tr style=\"text-align: right;\">\n",
       "      <th></th>\n",
       "      <th>jnr_sm_id</th>\n",
       "      <th>lead_id</th>\n",
       "      <th>lead_stage</th>\n",
       "      <th>call_done_date</th>\n",
       "      <th>call_status</th>\n",
       "      <th>call_reason</th>\n",
       "    </tr>\n",
       "  </thead>\n",
       "  <tbody>\n",
       "    <tr>\n",
       "      <th>0</th>\n",
       "      <td>JNR1001MG</td>\n",
       "      <td>USR1001</td>\n",
       "      <td>lead</td>\n",
       "      <td>1/2/2022</td>\n",
       "      <td>successful</td>\n",
       "      <td>lead_introduction</td>\n",
       "    </tr>\n",
       "    <tr>\n",
       "      <th>1</th>\n",
       "      <td>JNR1001MG</td>\n",
       "      <td>USR1001</td>\n",
       "      <td>lead</td>\n",
       "      <td>1/2/2022</td>\n",
       "      <td>successful</td>\n",
       "      <td>demo_schedule</td>\n",
       "    </tr>\n",
       "    <tr>\n",
       "      <th>2</th>\n",
       "      <td>JNR1001MG</td>\n",
       "      <td>USR1002</td>\n",
       "      <td>lead</td>\n",
       "      <td>1/3/2022</td>\n",
       "      <td>successful</td>\n",
       "      <td>lead_introduction</td>\n",
       "    </tr>\n",
       "    <tr>\n",
       "      <th>3</th>\n",
       "      <td>JNR1001MG</td>\n",
       "      <td>USR1002</td>\n",
       "      <td>lead</td>\n",
       "      <td>1/4/2022</td>\n",
       "      <td>successful</td>\n",
       "      <td>demo_schedule</td>\n",
       "    </tr>\n",
       "    <tr>\n",
       "      <th>4</th>\n",
       "      <td>JNR1001MG</td>\n",
       "      <td>USR1002</td>\n",
       "      <td>awareness</td>\n",
       "      <td>1/5/2022</td>\n",
       "      <td>successful</td>\n",
       "      <td>post_demo_followup</td>\n",
       "    </tr>\n",
       "    <tr>\n",
       "      <th>...</th>\n",
       "      <td>...</td>\n",
       "      <td>...</td>\n",
       "      <td>...</td>\n",
       "      <td>...</td>\n",
       "      <td>...</td>\n",
       "      <td>...</td>\n",
       "    </tr>\n",
       "    <tr>\n",
       "      <th>2187</th>\n",
       "      <td>JNR1001MG</td>\n",
       "      <td>USR1356</td>\n",
       "      <td>lead</td>\n",
       "      <td>2/21/2022</td>\n",
       "      <td>unsuccessful</td>\n",
       "      <td>lead_introduction</td>\n",
       "    </tr>\n",
       "    <tr>\n",
       "      <th>2188</th>\n",
       "      <td>JNR1001MG</td>\n",
       "      <td>USR1357</td>\n",
       "      <td>lead</td>\n",
       "      <td>1/8/2022</td>\n",
       "      <td>unsuccessful</td>\n",
       "      <td>lead_introduction</td>\n",
       "    </tr>\n",
       "    <tr>\n",
       "      <th>2189</th>\n",
       "      <td>JNR1001MG</td>\n",
       "      <td>USR1358</td>\n",
       "      <td>lead</td>\n",
       "      <td>1/12/2022</td>\n",
       "      <td>unsuccessful</td>\n",
       "      <td>lead_introduction</td>\n",
       "    </tr>\n",
       "    <tr>\n",
       "      <th>2190</th>\n",
       "      <td>JNR1001MG</td>\n",
       "      <td>USR1359</td>\n",
       "      <td>lead</td>\n",
       "      <td>1/22/2022</td>\n",
       "      <td>unsuccessful</td>\n",
       "      <td>lead_introduction</td>\n",
       "    </tr>\n",
       "    <tr>\n",
       "      <th>2191</th>\n",
       "      <td>JNR1001MG</td>\n",
       "      <td>USR1360</td>\n",
       "      <td>lead</td>\n",
       "      <td>2/21/2022</td>\n",
       "      <td>unsuccessful</td>\n",
       "      <td>lead_introduction</td>\n",
       "    </tr>\n",
       "  </tbody>\n",
       "</table>\n",
       "<p>2192 rows × 6 columns</p>\n",
       "</div>"
      ],
      "text/plain": [
       "      jnr_sm_id  lead_id lead_stage call_done_date   call_status  \\\n",
       "0     JNR1001MG  USR1001       lead       1/2/2022    successful   \n",
       "1     JNR1001MG  USR1001       lead       1/2/2022    successful   \n",
       "2     JNR1001MG  USR1002       lead       1/3/2022    successful   \n",
       "3     JNR1001MG  USR1002       lead       1/4/2022    successful   \n",
       "4     JNR1001MG  USR1002  awareness       1/5/2022    successful   \n",
       "...         ...      ...        ...            ...           ...   \n",
       "2187  JNR1001MG  USR1356       lead      2/21/2022  unsuccessful   \n",
       "2188  JNR1001MG  USR1357       lead       1/8/2022  unsuccessful   \n",
       "2189  JNR1001MG  USR1358       lead      1/12/2022  unsuccessful   \n",
       "2190  JNR1001MG  USR1359       lead      1/22/2022  unsuccessful   \n",
       "2191  JNR1001MG  USR1360       lead      2/21/2022  unsuccessful   \n",
       "\n",
       "             call_reason  \n",
       "0      lead_introduction  \n",
       "1          demo_schedule  \n",
       "2      lead_introduction  \n",
       "3          demo_schedule  \n",
       "4     post_demo_followup  \n",
       "...                  ...  \n",
       "2187   lead_introduction  \n",
       "2188   lead_introduction  \n",
       "2189   lead_introduction  \n",
       "2190   lead_introduction  \n",
       "2191   lead_introduction  \n",
       "\n",
       "[2192 rows x 6 columns]"
      ]
     },
     "execution_count": 30,
     "metadata": {},
     "output_type": "execute_result"
    }
   ],
   "source": [
    "leads_interaction_details"
   ]
  },
  {
   "cell_type": "code",
   "execution_count": 31,
   "id": "4ec205bc",
   "metadata": {},
   "outputs": [
    {
     "data": {
      "text/plain": [
       "lead             1547\n",
       "consideration     331\n",
       "awareness         250\n",
       "conversion         64\n",
       "Name: lead_stage, dtype: int64"
      ]
     },
     "execution_count": 31,
     "metadata": {},
     "output_type": "execute_result"
    }
   ],
   "source": [
    "leads_interaction_details.lead_stage.value_counts()"
   ]
  },
  {
   "cell_type": "markdown",
   "id": "6659aa71",
   "metadata": {},
   "source": [
    "While analysing 'leads_interaction_details' table, we will consider 'call_status' which are successfull because we cant conclude the reason for not lifting the call as the reason might be  either they dont have interest so they did not attended the demo or they might miss the call unintentionally"
   ]
  },
  {
   "cell_type": "code",
   "execution_count": 35,
   "id": "369eaef9",
   "metadata": {},
   "outputs": [
    {
     "data": {
      "text/plain": [
       "1866"
      ]
     },
     "execution_count": 35,
     "metadata": {},
     "output_type": "execute_result"
    }
   ],
   "source": [
    "len(leads_interaction_details.query('call_status==\"successful\"'))"
   ]
  },
  {
   "cell_type": "code",
   "execution_count": 36,
   "id": "eb1d736b",
   "metadata": {},
   "outputs": [
    {
     "data": {
      "text/html": [
       "<div>\n",
       "<style scoped>\n",
       "    .dataframe tbody tr th:only-of-type {\n",
       "        vertical-align: middle;\n",
       "    }\n",
       "\n",
       "    .dataframe tbody tr th {\n",
       "        vertical-align: top;\n",
       "    }\n",
       "\n",
       "    .dataframe thead th {\n",
       "        text-align: right;\n",
       "    }\n",
       "</style>\n",
       "<table border=\"1\" class=\"dataframe\">\n",
       "  <thead>\n",
       "    <tr style=\"text-align: right;\">\n",
       "      <th></th>\n",
       "      <th>jnr_sm_id</th>\n",
       "      <th>lead_id</th>\n",
       "      <th>lead_stage</th>\n",
       "      <th>call_done_date</th>\n",
       "      <th>call_status</th>\n",
       "      <th>call_reason</th>\n",
       "    </tr>\n",
       "  </thead>\n",
       "  <tbody>\n",
       "    <tr>\n",
       "      <th>0</th>\n",
       "      <td>JNR1001MG</td>\n",
       "      <td>USR1001</td>\n",
       "      <td>lead</td>\n",
       "      <td>1/2/2022</td>\n",
       "      <td>successful</td>\n",
       "      <td>lead_introduction</td>\n",
       "    </tr>\n",
       "    <tr>\n",
       "      <th>1</th>\n",
       "      <td>JNR1001MG</td>\n",
       "      <td>USR1001</td>\n",
       "      <td>lead</td>\n",
       "      <td>1/2/2022</td>\n",
       "      <td>successful</td>\n",
       "      <td>demo_schedule</td>\n",
       "    </tr>\n",
       "    <tr>\n",
       "      <th>2</th>\n",
       "      <td>JNR1001MG</td>\n",
       "      <td>USR1002</td>\n",
       "      <td>lead</td>\n",
       "      <td>1/3/2022</td>\n",
       "      <td>successful</td>\n",
       "      <td>lead_introduction</td>\n",
       "    </tr>\n",
       "    <tr>\n",
       "      <th>3</th>\n",
       "      <td>JNR1001MG</td>\n",
       "      <td>USR1002</td>\n",
       "      <td>lead</td>\n",
       "      <td>1/4/2022</td>\n",
       "      <td>successful</td>\n",
       "      <td>demo_schedule</td>\n",
       "    </tr>\n",
       "    <tr>\n",
       "      <th>4</th>\n",
       "      <td>JNR1001MG</td>\n",
       "      <td>USR1002</td>\n",
       "      <td>awareness</td>\n",
       "      <td>1/5/2022</td>\n",
       "      <td>successful</td>\n",
       "      <td>post_demo_followup</td>\n",
       "    </tr>\n",
       "  </tbody>\n",
       "</table>\n",
       "</div>"
      ],
      "text/plain": [
       "   jnr_sm_id  lead_id lead_stage call_done_date call_status  \\\n",
       "0  JNR1001MG  USR1001       lead       1/2/2022  successful   \n",
       "1  JNR1001MG  USR1001       lead       1/2/2022  successful   \n",
       "2  JNR1001MG  USR1002       lead       1/3/2022  successful   \n",
       "3  JNR1001MG  USR1002       lead       1/4/2022  successful   \n",
       "4  JNR1001MG  USR1002  awareness       1/5/2022  successful   \n",
       "\n",
       "          call_reason  \n",
       "0   lead_introduction  \n",
       "1       demo_schedule  \n",
       "2   lead_introduction  \n",
       "3       demo_schedule  \n",
       "4  post_demo_followup  "
      ]
     },
     "execution_count": 36,
     "metadata": {},
     "output_type": "execute_result"
    }
   ],
   "source": [
    "leads_interaction_details_s=leads_interaction_details.query('call_status==\"successful\"')\n",
    "leads_interaction_details_s.head()"
   ]
  },
  {
   "cell_type": "code",
   "execution_count": 37,
   "id": "92a32e0c",
   "metadata": {},
   "outputs": [
    {
     "data": {
      "text/plain": [
       "326"
      ]
     },
     "execution_count": 37,
     "metadata": {},
     "output_type": "execute_result"
    }
   ],
   "source": [
    "len(leads_interaction_details.query('call_status==\"unsuccessful\"'))"
   ]
  },
  {
   "cell_type": "code",
   "execution_count": 38,
   "id": "082de436",
   "metadata": {},
   "outputs": [
    {
     "data": {
      "text/plain": [
       "lead             1267\n",
       "consideration     290\n",
       "awareness         245\n",
       "conversion         64\n",
       "Name: lead_stage, dtype: int64"
      ]
     },
     "execution_count": 38,
     "metadata": {},
     "output_type": "execute_result"
    }
   ],
   "source": [
    "(leads_interaction_details_s.lead_stage.value_counts())"
   ]
  },
  {
   "cell_type": "code",
   "execution_count": 39,
   "id": "f69e243f",
   "metadata": {},
   "outputs": [
    {
     "data": {
      "text/plain": [
       "demo_not_attended             617\n",
       "lead_introduction             329\n",
       "demo_schedule                 321\n",
       "post_demo_followup            197\n",
       "followup_for_conversion       169\n",
       "interested_for_conversion     121\n",
       "successful_conversion          64\n",
       "followup_for_consideration     48\n",
       "Name: call_reason, dtype: int64"
      ]
     },
     "execution_count": 39,
     "metadata": {},
     "output_type": "execute_result"
    }
   ],
   "source": [
    "leads_interaction_details_s.call_reason.value_counts()"
   ]
  },
  {
   "cell_type": "code",
   "execution_count": 181,
   "id": "4e244776",
   "metadata": {},
   "outputs": [
    {
     "data": {
      "text/plain": [
       "Text(0.5, 1.0, 'Leads interraction call details')"
      ]
     },
     "execution_count": 181,
     "metadata": {},
     "output_type": "execute_result"
    },
    {
     "data": {
      "image/png": "[encoded data removed]",
      "text/plain": [
       "<Figure size 432x288 with 1 Axes>"
      ]
     },
     "metadata": {},
     "output_type": "display_data"
    }
   ],
   "source": [
    "pie2 = leads_interaction_details_s.call_reason.value_counts().plot(kind='pie', autopct='%.2f',  y='lead_id', ylabel='')\n",
    "pie2.set_title(\"Leads interraction call details\")"
   ]
  },
  {
   "cell_type": "markdown",
   "id": "154c674a",
   "metadata": {},
   "source": [
    "Maximum of leads are in 'lead' stage where 33% of them(617) have not attended demo"
   ]
  },
  {
   "cell_type": "markdown",
   "id": "3aac7cb7",
   "metadata": {},
   "source": [
    "Now we will break the scenario into two, like why leads did not attend the demo and if they attended then how good the managers are communicating well with them\n",
    "\n",
    "Scenario 1:\n",
    "\n",
    "Firstly we will analyse where the counts of leads are declining rapidly so that we can improve if we lacks anything internal process"
   ]
  },
  {
   "cell_type": "code",
   "execution_count": 44,
   "id": "fbdd6a1b",
   "metadata": {},
   "outputs": [
    {
     "data": {
      "text/html": [
       "<div>\n",
       "<style scoped>\n",
       "    .dataframe tbody tr th:only-of-type {\n",
       "        vertical-align: middle;\n",
       "    }\n",
       "\n",
       "    .dataframe tbody tr th {\n",
       "        vertical-align: top;\n",
       "    }\n",
       "\n",
       "    .dataframe thead th {\n",
       "        text-align: right;\n",
       "    }\n",
       "</style>\n",
       "<table border=\"1\" class=\"dataframe\">\n",
       "  <thead>\n",
       "    <tr style=\"text-align: right;\">\n",
       "      <th></th>\n",
       "      <th>jnr_sm_id</th>\n",
       "      <th>lead_id</th>\n",
       "      <th>lead_stage</th>\n",
       "      <th>call_done_date</th>\n",
       "      <th>call_status</th>\n",
       "      <th>call_reason</th>\n",
       "    </tr>\n",
       "  </thead>\n",
       "  <tbody>\n",
       "    <tr>\n",
       "      <th>0</th>\n",
       "      <td>JNR1001MG</td>\n",
       "      <td>USR1001</td>\n",
       "      <td>lead</td>\n",
       "      <td>1/2/2022</td>\n",
       "      <td>successful</td>\n",
       "      <td>lead_introduction</td>\n",
       "    </tr>\n",
       "    <tr>\n",
       "      <th>1</th>\n",
       "      <td>JNR1001MG</td>\n",
       "      <td>USR1001</td>\n",
       "      <td>lead</td>\n",
       "      <td>1/2/2022</td>\n",
       "      <td>successful</td>\n",
       "      <td>demo_schedule</td>\n",
       "    </tr>\n",
       "    <tr>\n",
       "      <th>2</th>\n",
       "      <td>JNR1001MG</td>\n",
       "      <td>USR1002</td>\n",
       "      <td>lead</td>\n",
       "      <td>1/3/2022</td>\n",
       "      <td>successful</td>\n",
       "      <td>lead_introduction</td>\n",
       "    </tr>\n",
       "    <tr>\n",
       "      <th>3</th>\n",
       "      <td>JNR1001MG</td>\n",
       "      <td>USR1002</td>\n",
       "      <td>lead</td>\n",
       "      <td>1/4/2022</td>\n",
       "      <td>successful</td>\n",
       "      <td>demo_schedule</td>\n",
       "    </tr>\n",
       "    <tr>\n",
       "      <th>4</th>\n",
       "      <td>JNR1001MG</td>\n",
       "      <td>USR1002</td>\n",
       "      <td>awareness</td>\n",
       "      <td>1/5/2022</td>\n",
       "      <td>successful</td>\n",
       "      <td>post_demo_followup</td>\n",
       "    </tr>\n",
       "    <tr>\n",
       "      <th>...</th>\n",
       "      <td>...</td>\n",
       "      <td>...</td>\n",
       "      <td>...</td>\n",
       "      <td>...</td>\n",
       "      <td>...</td>\n",
       "      <td>...</td>\n",
       "    </tr>\n",
       "    <tr>\n",
       "      <th>2175</th>\n",
       "      <td>JNR1012MG</td>\n",
       "      <td>USR1348</td>\n",
       "      <td>lead</td>\n",
       "      <td>2/28/2022</td>\n",
       "      <td>successful</td>\n",
       "      <td>demo_not_attended</td>\n",
       "    </tr>\n",
       "    <tr>\n",
       "      <th>2176</th>\n",
       "      <td>JNR1012MG</td>\n",
       "      <td>USR1348</td>\n",
       "      <td>awareness</td>\n",
       "      <td>2/28/2022</td>\n",
       "      <td>successful</td>\n",
       "      <td>post_demo_followup</td>\n",
       "    </tr>\n",
       "    <tr>\n",
       "      <th>2177</th>\n",
       "      <td>JNR1012MG</td>\n",
       "      <td>USR1348</td>\n",
       "      <td>awareness</td>\n",
       "      <td>2/28/2022</td>\n",
       "      <td>successful</td>\n",
       "      <td>followup_for_consideration</td>\n",
       "    </tr>\n",
       "    <tr>\n",
       "      <th>2178</th>\n",
       "      <td>JNR1012MG</td>\n",
       "      <td>USR1348</td>\n",
       "      <td>consideration</td>\n",
       "      <td>2/28/2022</td>\n",
       "      <td>successful</td>\n",
       "      <td>followup_for_conversion</td>\n",
       "    </tr>\n",
       "    <tr>\n",
       "      <th>2179</th>\n",
       "      <td>JNR1012MG</td>\n",
       "      <td>USR1348</td>\n",
       "      <td>consideration</td>\n",
       "      <td>2/28/2022</td>\n",
       "      <td>successful</td>\n",
       "      <td>interested_for_conversion</td>\n",
       "    </tr>\n",
       "  </tbody>\n",
       "</table>\n",
       "<p>1866 rows × 6 columns</p>\n",
       "</div>"
      ],
      "text/plain": [
       "      jnr_sm_id  lead_id     lead_stage call_done_date call_status  \\\n",
       "0     JNR1001MG  USR1001           lead       1/2/2022  successful   \n",
       "1     JNR1001MG  USR1001           lead       1/2/2022  successful   \n",
       "2     JNR1001MG  USR1002           lead       1/3/2022  successful   \n",
       "3     JNR1001MG  USR1002           lead       1/4/2022  successful   \n",
       "4     JNR1001MG  USR1002      awareness       1/5/2022  successful   \n",
       "...         ...      ...            ...            ...         ...   \n",
       "2175  JNR1012MG  USR1348           lead      2/28/2022  successful   \n",
       "2176  JNR1012MG  USR1348      awareness      2/28/2022  successful   \n",
       "2177  JNR1012MG  USR1348      awareness      2/28/2022  successful   \n",
       "2178  JNR1012MG  USR1348  consideration      2/28/2022  successful   \n",
       "2179  JNR1012MG  USR1348  consideration      2/28/2022  successful   \n",
       "\n",
       "                     call_reason  \n",
       "0              lead_introduction  \n",
       "1                  demo_schedule  \n",
       "2              lead_introduction  \n",
       "3                  demo_schedule  \n",
       "4             post_demo_followup  \n",
       "...                          ...  \n",
       "2175           demo_not_attended  \n",
       "2176          post_demo_followup  \n",
       "2177  followup_for_consideration  \n",
       "2178     followup_for_conversion  \n",
       "2179   interested_for_conversion  \n",
       "\n",
       "[1866 rows x 6 columns]"
      ]
     },
     "execution_count": 44,
     "metadata": {},
     "output_type": "execute_result"
    }
   ],
   "source": [
    "leads_interaction_details_s"
   ]
  },
  {
   "cell_type": "code",
   "execution_count": 41,
   "id": "b4071bc7",
   "metadata": {},
   "outputs": [
    {
     "data": {
      "text/html": [
       "<div>\n",
       "<style scoped>\n",
       "    .dataframe tbody tr th:only-of-type {\n",
       "        vertical-align: middle;\n",
       "    }\n",
       "\n",
       "    .dataframe tbody tr th {\n",
       "        vertical-align: top;\n",
       "    }\n",
       "\n",
       "    .dataframe thead th {\n",
       "        text-align: right;\n",
       "    }\n",
       "</style>\n",
       "<table border=\"1\" class=\"dataframe\">\n",
       "  <thead>\n",
       "    <tr style=\"text-align: right;\">\n",
       "      <th></th>\n",
       "      <th>snr_sm_id</th>\n",
       "      <th>jnr_sm_id</th>\n",
       "      <th>assigned_date</th>\n",
       "      <th>cycle</th>\n",
       "      <th>lead_id</th>\n",
       "    </tr>\n",
       "  </thead>\n",
       "  <tbody>\n",
       "    <tr>\n",
       "      <th>0</th>\n",
       "      <td>SNR501MG</td>\n",
       "      <td>JNR1001MG</td>\n",
       "      <td>1/1/2022</td>\n",
       "      <td>1</td>\n",
       "      <td>USR1001</td>\n",
       "    </tr>\n",
       "    <tr>\n",
       "      <th>1</th>\n",
       "      <td>SNR501MG</td>\n",
       "      <td>JNR1001MG</td>\n",
       "      <td>1/1/2022</td>\n",
       "      <td>1</td>\n",
       "      <td>USR1002</td>\n",
       "    </tr>\n",
       "    <tr>\n",
       "      <th>2</th>\n",
       "      <td>SNR501MG</td>\n",
       "      <td>JNR1001MG</td>\n",
       "      <td>1/1/2022</td>\n",
       "      <td>1</td>\n",
       "      <td>USR1003</td>\n",
       "    </tr>\n",
       "    <tr>\n",
       "      <th>3</th>\n",
       "      <td>SNR501MG</td>\n",
       "      <td>JNR1001MG</td>\n",
       "      <td>1/1/2022</td>\n",
       "      <td>1</td>\n",
       "      <td>USR1004</td>\n",
       "    </tr>\n",
       "    <tr>\n",
       "      <th>4</th>\n",
       "      <td>SNR501MG</td>\n",
       "      <td>JNR1001MG</td>\n",
       "      <td>1/1/2022</td>\n",
       "      <td>1</td>\n",
       "      <td>USR1005</td>\n",
       "    </tr>\n",
       "    <tr>\n",
       "      <th>...</th>\n",
       "      <td>...</td>\n",
       "      <td>...</td>\n",
       "      <td>...</td>\n",
       "      <td>...</td>\n",
       "      <td>...</td>\n",
       "    </tr>\n",
       "    <tr>\n",
       "      <th>355</th>\n",
       "      <td>SNR501MG</td>\n",
       "      <td>JNR1001MG</td>\n",
       "      <td>2/19/2022</td>\n",
       "      <td>4</td>\n",
       "      <td>USR1356</td>\n",
       "    </tr>\n",
       "    <tr>\n",
       "      <th>356</th>\n",
       "      <td>SNR501MG</td>\n",
       "      <td>JNR1001MG</td>\n",
       "      <td>1/1/2022</td>\n",
       "      <td>1</td>\n",
       "      <td>USR1357</td>\n",
       "    </tr>\n",
       "    <tr>\n",
       "      <th>357</th>\n",
       "      <td>SNR501MG</td>\n",
       "      <td>JNR1001MG</td>\n",
       "      <td>1/8/2022</td>\n",
       "      <td>2</td>\n",
       "      <td>USR1358</td>\n",
       "    </tr>\n",
       "    <tr>\n",
       "      <th>358</th>\n",
       "      <td>SNR501MG</td>\n",
       "      <td>JNR1001MG</td>\n",
       "      <td>1/15/2022</td>\n",
       "      <td>3</td>\n",
       "      <td>USR1359</td>\n",
       "    </tr>\n",
       "    <tr>\n",
       "      <th>359</th>\n",
       "      <td>SNR501MG</td>\n",
       "      <td>JNR1001MG</td>\n",
       "      <td>2/19/2022</td>\n",
       "      <td>4</td>\n",
       "      <td>USR1360</td>\n",
       "    </tr>\n",
       "  </tbody>\n",
       "</table>\n",
       "<p>360 rows × 5 columns</p>\n",
       "</div>"
      ],
      "text/plain": [
       "    snr_sm_id  jnr_sm_id assigned_date  cycle  lead_id\n",
       "0    SNR501MG  JNR1001MG      1/1/2022      1  USR1001\n",
       "1    SNR501MG  JNR1001MG      1/1/2022      1  USR1002\n",
       "2    SNR501MG  JNR1001MG      1/1/2022      1  USR1003\n",
       "3    SNR501MG  JNR1001MG      1/1/2022      1  USR1004\n",
       "4    SNR501MG  JNR1001MG      1/1/2022      1  USR1005\n",
       "..        ...        ...           ...    ...      ...\n",
       "355  SNR501MG  JNR1001MG     2/19/2022      4  USR1356\n",
       "356  SNR501MG  JNR1001MG      1/1/2022      1  USR1357\n",
       "357  SNR501MG  JNR1001MG      1/8/2022      2  USR1358\n",
       "358  SNR501MG  JNR1001MG     1/15/2022      3  USR1359\n",
       "359  SNR501MG  JNR1001MG     2/19/2022      4  USR1360\n",
       "\n",
       "[360 rows x 5 columns]"
      ]
     },
     "execution_count": 41,
     "metadata": {},
     "output_type": "execute_result"
    }
   ],
   "source": [
    "sales_managers_assigned_leads_details"
   ]
  },
  {
   "cell_type": "code",
   "execution_count": 43,
   "id": "202401c4",
   "metadata": {},
   "outputs": [
    {
     "data": {
      "text/plain": [
       "snr_sm_id\n",
       "SNR501MG    94\n",
       "SNR502MG    80\n",
       "SNR503MG    98\n",
       "SNR504MG    88\n",
       "dtype: int64"
      ]
     },
     "execution_count": 43,
     "metadata": {},
     "output_type": "execute_result"
    }
   ],
   "source": [
    "sales_managers_assigned_leads_details.groupby('snr_sm_id').size()"
   ]
  },
  {
   "cell_type": "code",
   "execution_count": 48,
   "id": "ce63ff5e",
   "metadata": {},
   "outputs": [
    {
     "data": {
      "text/plain": [
       "(617, 6)"
      ]
     },
     "execution_count": 48,
     "metadata": {},
     "output_type": "execute_result"
    }
   ],
   "source": [
    "leads_interaction_details_s.query('call_reason==\"demo_not_attended\"').shape\n"
   ]
  },
  {
   "cell_type": "markdown",
   "id": "3de8b5a8",
   "metadata": {},
   "source": [
    "Leads who have answered call and not attended demo comes under the Scenario 2 which will be analysed further, for now removing these rows"
   ]
  },
  {
   "cell_type": "code",
   "execution_count": 63,
   "id": "948a6561",
   "metadata": {},
   "outputs": [],
   "source": [
    "leads_interaction_details_sna=leads_interaction_details_s.query('call_reason != \"demo_not_attended\"')"
   ]
  },
  {
   "cell_type": "code",
   "execution_count": 64,
   "id": "ae54097c",
   "metadata": {},
   "outputs": [
    {
     "data": {
      "text/plain": [
       "lead_introduction             329\n",
       "demo_schedule                 321\n",
       "post_demo_followup            197\n",
       "followup_for_conversion       169\n",
       "interested_for_conversion     121\n",
       "successful_conversion          64\n",
       "followup_for_consideration     48\n",
       "Name: call_reason, dtype: int64"
      ]
     },
     "execution_count": 64,
     "metadata": {},
     "output_type": "execute_result"
    }
   ],
   "source": [
    "leads_interaction_details_sna.call_reason.value_counts()"
   ]
  },
  {
   "cell_type": "code",
   "execution_count": 89,
   "id": "8f331003",
   "metadata": {},
   "outputs": [
    {
     "name": "stderr",
     "output_type": "stream",
     "text": [
      "C:\\Users\\GANTIT~1\\AppData\\Local\\Temp/ipykernel_8724/1700835091.py:1: SettingWithCopyWarning: \n",
      "A value is trying to be set on a copy of a slice from a DataFrame.\n",
      "Try using .loc[row_indexer,col_indexer] = value instead\n",
      "\n",
      "See the caveats in the documentation: https://pandas.pydata.org/pandas-docs/stable/user_guide/indexing.html#returning-a-view-versus-a-copy\n",
      "  leads_interaction_details_sna['row_number_by_group']=leads_interaction_details_sna.groupby(['lead_id'])['call_reason'].cumcount()+1\n"
     ]
    },
    {
     "data": {
      "text/html": [
       "<div>\n",
       "<style scoped>\n",
       "    .dataframe tbody tr th:only-of-type {\n",
       "        vertical-align: middle;\n",
       "    }\n",
       "\n",
       "    .dataframe tbody tr th {\n",
       "        vertical-align: top;\n",
       "    }\n",
       "\n",
       "    .dataframe thead th {\n",
       "        text-align: right;\n",
       "    }\n",
       "</style>\n",
       "<table border=\"1\" class=\"dataframe\">\n",
       "  <thead>\n",
       "    <tr style=\"text-align: right;\">\n",
       "      <th></th>\n",
       "      <th>jnr_sm_id</th>\n",
       "      <th>lead_id</th>\n",
       "      <th>lead_stage</th>\n",
       "      <th>call_done_date</th>\n",
       "      <th>call_status</th>\n",
       "      <th>call_reason</th>\n",
       "      <th>row_number_by_group</th>\n",
       "    </tr>\n",
       "  </thead>\n",
       "  <tbody>\n",
       "    <tr>\n",
       "      <th>0</th>\n",
       "      <td>JNR1001MG</td>\n",
       "      <td>USR1001</td>\n",
       "      <td>lead</td>\n",
       "      <td>1/2/2022</td>\n",
       "      <td>successful</td>\n",
       "      <td>lead_introduction</td>\n",
       "      <td>1</td>\n",
       "    </tr>\n",
       "    <tr>\n",
       "      <th>1</th>\n",
       "      <td>JNR1001MG</td>\n",
       "      <td>USR1001</td>\n",
       "      <td>lead</td>\n",
       "      <td>1/2/2022</td>\n",
       "      <td>successful</td>\n",
       "      <td>demo_schedule</td>\n",
       "      <td>2</td>\n",
       "    </tr>\n",
       "    <tr>\n",
       "      <th>2</th>\n",
       "      <td>JNR1001MG</td>\n",
       "      <td>USR1002</td>\n",
       "      <td>lead</td>\n",
       "      <td>1/3/2022</td>\n",
       "      <td>successful</td>\n",
       "      <td>lead_introduction</td>\n",
       "      <td>1</td>\n",
       "    </tr>\n",
       "    <tr>\n",
       "      <th>3</th>\n",
       "      <td>JNR1001MG</td>\n",
       "      <td>USR1002</td>\n",
       "      <td>lead</td>\n",
       "      <td>1/4/2022</td>\n",
       "      <td>successful</td>\n",
       "      <td>demo_schedule</td>\n",
       "      <td>2</td>\n",
       "    </tr>\n",
       "    <tr>\n",
       "      <th>4</th>\n",
       "      <td>JNR1001MG</td>\n",
       "      <td>USR1002</td>\n",
       "      <td>awareness</td>\n",
       "      <td>1/5/2022</td>\n",
       "      <td>successful</td>\n",
       "      <td>post_demo_followup</td>\n",
       "      <td>3</td>\n",
       "    </tr>\n",
       "    <tr>\n",
       "      <th>...</th>\n",
       "      <td>...</td>\n",
       "      <td>...</td>\n",
       "      <td>...</td>\n",
       "      <td>...</td>\n",
       "      <td>...</td>\n",
       "      <td>...</td>\n",
       "      <td>...</td>\n",
       "    </tr>\n",
       "    <tr>\n",
       "      <th>2173</th>\n",
       "      <td>JNR1012MG</td>\n",
       "      <td>USR1348</td>\n",
       "      <td>lead</td>\n",
       "      <td>2/22/2022</td>\n",
       "      <td>successful</td>\n",
       "      <td>demo_schedule</td>\n",
       "      <td>2</td>\n",
       "    </tr>\n",
       "    <tr>\n",
       "      <th>2176</th>\n",
       "      <td>JNR1012MG</td>\n",
       "      <td>USR1348</td>\n",
       "      <td>awareness</td>\n",
       "      <td>2/28/2022</td>\n",
       "      <td>successful</td>\n",
       "      <td>post_demo_followup</td>\n",
       "      <td>3</td>\n",
       "    </tr>\n",
       "    <tr>\n",
       "      <th>2177</th>\n",
       "      <td>JNR1012MG</td>\n",
       "      <td>USR1348</td>\n",
       "      <td>awareness</td>\n",
       "      <td>2/28/2022</td>\n",
       "      <td>successful</td>\n",
       "      <td>followup_for_consideration</td>\n",
       "      <td>4</td>\n",
       "    </tr>\n",
       "    <tr>\n",
       "      <th>2178</th>\n",
       "      <td>JNR1012MG</td>\n",
       "      <td>USR1348</td>\n",
       "      <td>consideration</td>\n",
       "      <td>2/28/2022</td>\n",
       "      <td>successful</td>\n",
       "      <td>followup_for_conversion</td>\n",
       "      <td>5</td>\n",
       "    </tr>\n",
       "    <tr>\n",
       "      <th>2179</th>\n",
       "      <td>JNR1012MG</td>\n",
       "      <td>USR1348</td>\n",
       "      <td>consideration</td>\n",
       "      <td>2/28/2022</td>\n",
       "      <td>successful</td>\n",
       "      <td>interested_for_conversion</td>\n",
       "      <td>6</td>\n",
       "    </tr>\n",
       "  </tbody>\n",
       "</table>\n",
       "<p>1249 rows × 7 columns</p>\n",
       "</div>"
      ],
      "text/plain": [
       "      jnr_sm_id  lead_id     lead_stage call_done_date call_status  \\\n",
       "0     JNR1001MG  USR1001           lead       1/2/2022  successful   \n",
       "1     JNR1001MG  USR1001           lead       1/2/2022  successful   \n",
       "2     JNR1001MG  USR1002           lead       1/3/2022  successful   \n",
       "3     JNR1001MG  USR1002           lead       1/4/2022  successful   \n",
       "4     JNR1001MG  USR1002      awareness       1/5/2022  successful   \n",
       "...         ...      ...            ...            ...         ...   \n",
       "2173  JNR1012MG  USR1348           lead      2/22/2022  successful   \n",
       "2176  JNR1012MG  USR1348      awareness      2/28/2022  successful   \n",
       "2177  JNR1012MG  USR1348      awareness      2/28/2022  successful   \n",
       "2178  JNR1012MG  USR1348  consideration      2/28/2022  successful   \n",
       "2179  JNR1012MG  USR1348  consideration      2/28/2022  successful   \n",
       "\n",
       "                     call_reason  row_number_by_group  \n",
       "0              lead_introduction                    1  \n",
       "1                  demo_schedule                    2  \n",
       "2              lead_introduction                    1  \n",
       "3                  demo_schedule                    2  \n",
       "4             post_demo_followup                    3  \n",
       "...                          ...                  ...  \n",
       "2173               demo_schedule                    2  \n",
       "2176          post_demo_followup                    3  \n",
       "2177  followup_for_consideration                    4  \n",
       "2178     followup_for_conversion                    5  \n",
       "2179   interested_for_conversion                    6  \n",
       "\n",
       "[1249 rows x 7 columns]"
      ]
     },
     "execution_count": 89,
     "metadata": {},
     "output_type": "execute_result"
    }
   ],
   "source": [
    "leads_interaction_details_sna['row_number_by_group']=leads_interaction_details_sna.groupby(['lead_id'])['call_reason'].cumcount()+1\n",
    "leads_interaction_details_sna\n"
   ]
  },
  {
   "cell_type": "markdown",
   "id": "d4ab3fd5",
   "metadata": {},
   "source": [
    "Here in this table, it is taking data repeatatively like 'lead_intro','demo_schedule' steps are count each time under each lead\n",
    "\n",
    "So as row_numbers are generated for each call_reason for every lead_id, extracting the last step for every leads in order to identify where maximum of count are reducing so that we can concentrate on that particular period"
   ]
  },
  {
   "cell_type": "code",
   "execution_count": 100,
   "id": "3b9d02af",
   "metadata": {},
   "outputs": [
    {
     "data": {
      "text/html": [
       "<div>\n",
       "<style scoped>\n",
       "    .dataframe tbody tr th:only-of-type {\n",
       "        vertical-align: middle;\n",
       "    }\n",
       "\n",
       "    .dataframe tbody tr th {\n",
       "        vertical-align: top;\n",
       "    }\n",
       "\n",
       "    .dataframe thead th {\n",
       "        text-align: right;\n",
       "    }\n",
       "</style>\n",
       "<table border=\"1\" class=\"dataframe\">\n",
       "  <thead>\n",
       "    <tr style=\"text-align: right;\">\n",
       "      <th></th>\n",
       "      <th>row_number_by_group</th>\n",
       "    </tr>\n",
       "    <tr>\n",
       "      <th>lead_id</th>\n",
       "      <th></th>\n",
       "    </tr>\n",
       "  </thead>\n",
       "  <tbody>\n",
       "    <tr>\n",
       "      <th>USR1001</th>\n",
       "      <td>2</td>\n",
       "    </tr>\n",
       "    <tr>\n",
       "      <th>USR1002</th>\n",
       "      <td>8</td>\n",
       "    </tr>\n",
       "    <tr>\n",
       "      <th>USR1003</th>\n",
       "      <td>4</td>\n",
       "    </tr>\n",
       "    <tr>\n",
       "      <th>USR1004</th>\n",
       "      <td>3</td>\n",
       "    </tr>\n",
       "    <tr>\n",
       "      <th>USR1005</th>\n",
       "      <td>3</td>\n",
       "    </tr>\n",
       "    <tr>\n",
       "      <th>...</th>\n",
       "      <td>...</td>\n",
       "    </tr>\n",
       "    <tr>\n",
       "      <th>USR1333</th>\n",
       "      <td>1</td>\n",
       "    </tr>\n",
       "    <tr>\n",
       "      <th>USR1334</th>\n",
       "      <td>1</td>\n",
       "    </tr>\n",
       "    <tr>\n",
       "      <th>USR1335</th>\n",
       "      <td>2</td>\n",
       "    </tr>\n",
       "    <tr>\n",
       "      <th>USR1343</th>\n",
       "      <td>4</td>\n",
       "    </tr>\n",
       "    <tr>\n",
       "      <th>USR1348</th>\n",
       "      <td>6</td>\n",
       "    </tr>\n",
       "  </tbody>\n",
       "</table>\n",
       "<p>329 rows × 1 columns</p>\n",
       "</div>"
      ],
      "text/plain": [
       "         row_number_by_group\n",
       "lead_id                     \n",
       "USR1001                    2\n",
       "USR1002                    8\n",
       "USR1003                    4\n",
       "USR1004                    3\n",
       "USR1005                    3\n",
       "...                      ...\n",
       "USR1333                    1\n",
       "USR1334                    1\n",
       "USR1335                    2\n",
       "USR1343                    4\n",
       "USR1348                    6\n",
       "\n",
       "[329 rows x 1 columns]"
      ]
     },
     "execution_count": 100,
     "metadata": {},
     "output_type": "execute_result"
    }
   ],
   "source": [
    "leads_interaction_details_sna.groupby(['lead_id']).max('row_number_by_group')"
   ]
  },
  {
   "cell_type": "code",
   "execution_count": 102,
   "id": "4ebafe4a",
   "metadata": {},
   "outputs": [
    {
     "data": {
      "text/plain": [
       "row_number_by_group\n",
       "2                      127\n",
       "3                       67\n",
       "6                       44\n",
       "7                       41\n",
       "5                       21\n",
       "4                       10\n",
       "8                        9\n",
       "1                        8\n",
       "9                        2\n",
       "dtype: int64"
      ]
     },
     "execution_count": 102,
     "metadata": {},
     "output_type": "execute_result"
    }
   ],
   "source": [
    "leads_interaction_details_sna.groupby(['lead_id']).max('row_number_by_group').value_counts()"
   ]
  },
  {
   "cell_type": "markdown",
   "id": "6334c618",
   "metadata": {},
   "source": [
    " 47.2% leads counts rapidly declined  after conducting demo (i.e; half of the leads were dropped between 'post_demo_followup' and  'demo_schedule')\n",
    "\n",
    "There is a chance to improve communication between managers and leads to build trust and reduce the numbers\n",
    "\n",
    "As many of their leads are preferring Telugu next to English, so if there is any chance to provide additional support by communicating in Telugu for telugu state leads then it would be added advantage.\n"
   ]
  },
  {
   "cell_type": "markdown",
   "id": "bf115bc9",
   "metadata": {},
   "source": [
    "Scenario 2: Leads reasons for no interest"
   ]
  },
  {
   "cell_type": "code",
   "execution_count": 103,
   "id": "da9f07eb",
   "metadata": {},
   "outputs": [
    {
     "data": {
      "text/plain": [
       "reasons_for_not_interested_in_demo\n",
       "Can't afford                        44\n",
       "Cannot afford                        4\n",
       "No time for student                 27\n",
       "Student not interested in domain    28\n",
       "Wants offline classes               56\n",
       "Will join in final year              5\n",
       "dtype: int64"
      ]
     },
     "execution_count": 103,
     "metadata": {},
     "output_type": "execute_result"
    }
   ],
   "source": [
    "leads_reasons_for_no_interest.groupby('reasons_for_not_interested_in_demo').size()"
   ]
  },
  {
   "cell_type": "markdown",
   "id": "7c51b2d1",
   "metadata": {},
   "source": [
    "Replacing 'Cant afford' to 'Cannot afford' as both have same meaning"
   ]
  },
  {
   "cell_type": "code",
   "execution_count": 141,
   "id": "e5736680",
   "metadata": {},
   "outputs": [],
   "source": [
    "leads_reasons_for_no_interest.replace({\"Can't afford\":\"Cannot afford\"}, inplace=True)"
   ]
  },
  {
   "cell_type": "code",
   "execution_count": 142,
   "id": "790d283f",
   "metadata": {},
   "outputs": [
    {
     "data": {
      "text/plain": [
       "reasons_for_not_interested_in_demo\n",
       "Cannot afford                       48\n",
       "No time for student                 27\n",
       "Student not interested in domain    28\n",
       "Wants offline classes               56\n",
       "Will join in final year              5\n",
       "dtype: int64"
      ]
     },
     "execution_count": 142,
     "metadata": {},
     "output_type": "execute_result"
    }
   ],
   "source": [
    "leads_reasons_for_no_interest.groupby('reasons_for_not_interested_in_demo').size()"
   ]
  },
  {
   "cell_type": "markdown",
   "id": "7aa9284e",
   "metadata": {},
   "source": [
    "."
   ]
  },
  {
   "cell_type": "code",
   "execution_count": 143,
   "id": "236f0af2",
   "metadata": {},
   "outputs": [
    {
     "data": {
      "text/plain": [
       "Text(0.5, 1.0, 'Reasons for not interested in demo')"
      ]
     },
     "execution_count": 143,
     "metadata": {},
     "output_type": "execute_result"
    },
    {
     "data": {
      "image/png": "[encoded data removed]",
      "text/plain": [
       "<Figure size 432x288 with 1 Axes>"
      ]
     },
     "metadata": {},
     "output_type": "display_data"
    }
   ],
   "source": [
    "pie_demo = leads_reasons_for_no_interest.groupby('reasons_for_not_interested_in_demo').size().plot(kind='pie', autopct='%.2f',  y='lead_id', ylabel='')\n",
    "pie_demo.set_title(\"Reasons for not interested in demo\")"
   ]
  },
  {
   "cell_type": "code",
   "execution_count": 144,
   "id": "1d41e436",
   "metadata": {},
   "outputs": [
    {
     "data": {
      "text/plain": [
       "Cannot afford                       32\n",
       "Wants offline classes               25\n",
       "Student not interested in domain    14\n",
       "No time for student                  6\n",
       "Will join in final year              2\n",
       "Name: reasons_for_not_interested_to_consider, dtype: int64"
      ]
     },
     "execution_count": 144,
     "metadata": {},
     "output_type": "execute_result"
    }
   ],
   "source": [
    "leads_reasons_for_no_interest.reasons_for_not_interested_to_consider.value_counts()"
   ]
  },
  {
   "cell_type": "code",
   "execution_count": 145,
   "id": "70045dc9",
   "metadata": {},
   "outputs": [
    {
     "data": {
      "text/plain": [
       "Text(0.5, 1.0, 'Reasons for not interested to consider')"
      ]
     },
     "execution_count": 145,
     "metadata": {},
     "output_type": "execute_result"
    },
    {
     "data": {
      "image/png": "[encoded data removed]",
      "text/plain": [
       "<Figure size 432x288 with 1 Axes>"
      ]
     },
     "metadata": {},
     "output_type": "display_data"
    }
   ],
   "source": [
    "pie_demo = leads_reasons_for_no_interest.groupby('reasons_for_not_interested_to_consider').size().plot(kind='pie', autopct='%.2f',  y='lead_id', ylabel='')\n",
    "pie_demo.set_title(\"Reasons for not interested to consider\")"
   ]
  },
  {
   "cell_type": "code",
   "execution_count": 146,
   "id": "f30f8c80",
   "metadata": {},
   "outputs": [
    {
     "data": {
      "text/plain": [
       "Cannot afford                       19\n",
       "Student not interested in domain    10\n",
       "Wants offline classes               10\n",
       "Will join in final year              7\n",
       "No time for student                  5\n",
       "Name: reasons_for_not_interested_to_convert, dtype: int64"
      ]
     },
     "execution_count": 146,
     "metadata": {},
     "output_type": "execute_result"
    }
   ],
   "source": [
    "leads_reasons_for_no_interest.reasons_for_not_interested_to_convert.value_counts()"
   ]
  },
  {
   "cell_type": "code",
   "execution_count": 147,
   "id": "87440919",
   "metadata": {},
   "outputs": [
    {
     "data": {
      "text/plain": [
       "Text(0.5, 1.0, 'Reasons for not interested to convert')"
      ]
     },
     "execution_count": 147,
     "metadata": {},
     "output_type": "execute_result"
    },
    {
     "data": {
      "image/png": "[encoded data removed]",
      "text/plain": [
       "<Figure size 432x288 with 1 Axes>"
      ]
     },
     "metadata": {},
     "output_type": "display_data"
    }
   ],
   "source": [
    "pie_demo = leads_reasons_for_no_interest.groupby('reasons_for_not_interested_to_convert').size().plot(kind='pie', autopct='%.2f',  y='lead_id', ylabel='')\n",
    "pie_demo.set_title(\"Reasons for not interested to convert\")"
   ]
  },
  {
   "cell_type": "markdown",
   "id": "d9d99b99",
   "metadata": {},
   "source": [
    "Leads are dropping majorly because of as they cannot afford and they are preferring offline classes\n",
    "\n",
    "Affordibility of course from leads can be analysed considering current_education of leads"
   ]
  },
  {
   "cell_type": "code",
   "execution_count": 148,
   "id": "82c80f16",
   "metadata": {},
   "outputs": [
    {
     "name": "stdout",
     "output_type": "stream",
     "text": [
      "<class 'pandas.core.frame.DataFrame'>\n",
      "Int64Index: 292 entries, 0 to 291\n",
      "Data columns (total 10 columns):\n",
      " #   Column                                  Non-Null Count  Dtype \n",
      "---  ------                                  --------------  ----- \n",
      " 0   lead_id                                 292 non-null    object\n",
      " 1   reasons_for_not_interested_in_demo      163 non-null    object\n",
      " 2   reasons_for_not_interested_to_consider  78 non-null     object\n",
      " 3   reasons_for_not_interested_to_convert   51 non-null     object\n",
      " 4   age                                     292 non-null    int64 \n",
      " 5   gender                                  292 non-null    object\n",
      " 6   current_city                            292 non-null    object\n",
      " 7   current_education                       292 non-null    object\n",
      " 8   parent_occupation                       292 non-null    object\n",
      " 9   lead_gen_source                         292 non-null    object\n",
      "dtypes: int64(1), object(9)\n",
      "memory usage: 25.1+ KB\n"
     ]
    }
   ],
   "source": [
    "df_merged_leads = leads_reasons_for_no_interest.merge(leads_basic_details_ro, how='inner', on = 'lead_id')\n",
    "df_merged_leads.info()"
   ]
  },
  {
   "cell_type": "code",
   "execution_count": 165,
   "id": "a90d2b72",
   "metadata": {},
   "outputs": [
    {
     "data": {
      "text/plain": [
       "Looking for Job    11\n",
       "B.Tech              7\n",
       "Degree              1\n",
       "Name: current_education, dtype: int64"
      ]
     },
     "execution_count": 165,
     "metadata": {},
     "output_type": "execute_result"
    }
   ],
   "source": [
    "df_merged_leads.query('reasons_for_not_interested_to_convert == [ \"Cannot afford\"]')['current_education'].value_counts()"
   ]
  },
  {
   "cell_type": "code",
   "execution_count": 166,
   "id": "09aa46f1",
   "metadata": {},
   "outputs": [
    {
     "data": {
      "text/plain": [
       "Looking for Job    16\n",
       "Degree              6\n",
       "Intermediate        4\n",
       "B.Tech              3\n",
       "10th Completed      2\n",
       "Name: current_education, dtype: int64"
      ]
     },
     "execution_count": 166,
     "metadata": {},
     "output_type": "execute_result"
    }
   ],
   "source": [
    "df_merged_leads.query('reasons_for_not_interested_to_consider == [ \"Cannot afford\"]')['current_education'].value_counts()"
   ]
  },
  {
   "cell_type": "code",
   "execution_count": 167,
   "id": "9143e0b3",
   "metadata": {},
   "outputs": [
    {
     "data": {
      "text/plain": [
       "Looking for Job    26\n",
       "B.Tech             16\n",
       "Degree              3\n",
       "Intermediate        2\n",
       "10th Completed      1\n",
       "Name: current_education, dtype: int64"
      ]
     },
     "execution_count": 167,
     "metadata": {},
     "output_type": "execute_result"
    }
   ],
   "source": [
    "df_merged_leads.query('reasons_for_not_interested_in_demo == [ \"Cannot afford\"]')['current_education'].value_counts()"
   ]
  },
  {
   "cell_type": "markdown",
   "id": "c5a337c2",
   "metadata": {},
   "source": [
    "Maximum of the leads education has been completed and they are looking for job and other half of leads are pursuing B.tech\n",
    "\n",
    "As majority of them are job less, parents income plays a vital role"
   ]
  },
  {
   "cell_type": "code",
   "execution_count": 169,
   "id": "00526c0f",
   "metadata": {},
   "outputs": [
    {
     "data": {
      "text/plain": [
       "Business               6\n",
       "IT Employee            6\n",
       "Government Employee    4\n",
       "Lawyer                 2\n",
       "Private Employee       1\n",
       "Name: parent_occupation, dtype: int64"
      ]
     },
     "execution_count": 169,
     "metadata": {},
     "output_type": "execute_result"
    }
   ],
   "source": [
    "df_merged_leads.query('reasons_for_not_interested_to_convert == [\"Cannot afford\"]')['parent_occupation'].value_counts()"
   ]
  },
  {
   "cell_type": "code",
   "execution_count": 172,
   "id": "abdea884",
   "metadata": {},
   "outputs": [
    {
     "data": {
      "text/plain": [
       "Government Employee    17\n",
       "Business                6\n",
       "IT Employee             4\n",
       "Lawyer                  4\n",
       "Name: parent_occupation, dtype: int64"
      ]
     },
     "execution_count": 172,
     "metadata": {},
     "output_type": "execute_result"
    }
   ],
   "source": [
    "df_merged_leads.query('reasons_for_not_interested_to_consider == [\"Cannot afford\"]')['parent_occupation'].value_counts()"
   ]
  },
  {
   "cell_type": "code",
   "execution_count": 171,
   "id": "f4981334",
   "metadata": {},
   "outputs": [
    {
     "data": {
      "text/plain": [
       "Government Employee    17\n",
       "Business               11\n",
       "IT Employee             9\n",
       "Lawyer                  8\n",
       "Private Employee        2\n",
       "Doctor                  1\n",
       "Name: parent_occupation, dtype: int64"
      ]
     },
     "execution_count": 171,
     "metadata": {},
     "output_type": "execute_result"
    }
   ],
   "source": [
    "df_merged_leads.query('reasons_for_not_interested_in_demo == [\"Cannot afford\"]')['parent_occupation'].value_counts()"
   ]
  },
  {
   "cell_type": "markdown",
   "id": "4f84896c",
   "metadata": {},
   "source": [
    "Majority of the leads parents are working either as Govt  or IT employee or business"
   ]
  },
  {
   "cell_type": "markdown",
   "id": "b7bebe5c",
   "metadata": {},
   "source": [
    "Course will get better reach by improving factors such as providing course for affordable price and  better communication between managers and leads helps to track the different reasons which can be recitified and developed further "
   ]
  },
  {
   "cell_type": "markdown",
   "id": "2003c860",
   "metadata": {},
   "source": [
    "Please refer below dashboard\n"
   ]
  },
  {
   "cell_type": "markdown",
   "id": "d2c3b5de",
   "metadata": {},
   "source": [
    "https://app.powerbi.com/view?r=eyJrIjoiYmQ4YTI4YWQtZjI1My00ODJjLWJhN2ItNDM5ZWY2NzE1ZWRjIiwidCI6IjIwMjgxNzFmLWU2ZWMtNDIxMS1iZjQzLWVhYWRlMTJkZWFmMSJ9"
   ]
  },
  {
   "cell_type": "code",
   "execution_count": null,
   "id": "035e6bdf",
   "metadata": {},
   "outputs": [],
   "source": []
  }
 ],
 "metadata": {
  "kernelspec": {
   "display_name": "Python 3 (ipykernel)",
   "language": "python",
   "name": "python3"
  },
  "language_info": {
   "codemirror_mode": {
    "name": "ipython",
    "version": 3
   },
   "file_extension": ".py",
   "mimetype": "text/x-python",
   "name": "python",
   "nbconvert_exporter": "python",
   "pygments_lexer": "ipython3",
   "version": "3.10.0"
  }
 },
 "nbformat": 4,
 "nbformat_minor": 5
}
